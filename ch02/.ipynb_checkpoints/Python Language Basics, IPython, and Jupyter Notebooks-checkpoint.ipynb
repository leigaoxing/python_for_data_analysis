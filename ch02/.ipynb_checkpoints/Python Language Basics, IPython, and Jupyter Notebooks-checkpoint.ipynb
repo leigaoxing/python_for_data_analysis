{
 "cells": [
  {
   "cell_type": "markdown",
   "id": "df34def4-1fb0-4d6d-9445-d052baa71c0c",
   "metadata": {},
   "source": [
    "深入了解Python 语言，推荐了三本书：\n",
    "  - Python Cookbook, Third Edition, by David Beazley and Brian K. Jones (O'Reilly)\n",
    "  - Fluent Python by Luciano Ramalho (O'Reilly)\n",
    "  - Effective Python, Second Edition, by Brett Slatkin (Addison-Wesley)"
   ]
  },
  {
   "cell_type": "markdown",
   "id": "7ca2fae6-d281-44af-9920-2a33264990ae",
   "metadata": {},
   "source": [
    "## 2.1 Python 解释器"
   ]
  },
  {
   "cell_type": "markdown",
   "id": "66d9f726-b80c-4355-b2e2-fa92d4175455",
   "metadata": {},
   "source": [
    "标准的`python解释器`可以通过在命令行输入 `python` 命令启动；你在命令行中看到的`>>>`提示符是你键入代码的地方。退出 `python解释器` 可以使用 `exit()` 函数或者按下 `CTRL-D`。可以将 .py 文件作为 python 命令的第一个参数来执行 py 文件，如 $ python3 hello_world.py"
   ]
  },
  {
   "cell_type": "markdown",
   "id": "c9935272-4415-47ca-967f-8af31e0c11c4",
   "metadata": {},
   "source": [
    "IPython是一个加强版的Python解释器，Juypyter notebook是一种基于Web的代码笔记本，最初也是源于IPython项目。如，在使用`%run`命令时，IPython会在同一个进程内执行指定文件中的代码，确保你在执行完成时可以立即探索结果。"
   ]
  },
  {
   "cell_type": "markdown",
   "id": "5ffa99bd-29a3-43c0-9809-3e51e4ec49a6",
   "metadata": {},
   "source": [
    "默认的IPython提示符采用In[2]：风格的显示，而不是标准的>>> 提示符。"
   ]
  },
  {
   "cell_type": "code",
   "execution_count": 8,
   "id": "27d61620-fa4e-4bdd-a153-10529ed93651",
   "metadata": {},
   "outputs": [
    {
     "name": "stdout",
     "output_type": "stream",
     "text": [
      "Helo World\n"
     ]
    }
   ],
   "source": [
    "%run hello_world.py"
   ]
  },
  {
   "cell_type": "markdown",
   "id": "aea618e9-850f-4e56-bb91-351c582df7d5",
   "metadata": {},
   "source": [
    "## 2.2 Ipython 基础 "
   ]
  },
  {
   "cell_type": "markdown",
   "id": "e0788ad1-d994-48f3-a617-6016091c2e0b",
   "metadata": {},
   "source": [
    "### 2.2.1 运行 Ipython 命令"
   ]
  },
  {
   "cell_type": "markdown",
   "id": "379329d9-7684-48a1-a461-b13b54880d70",
   "metadata": {},
   "source": [
    "可以像启动标准 python 解释器那样，通过 ipython 命令启动 ipython 命令行；如 $ ipython ; "
   ]
  },
  {
   "cell_type": "markdown",
   "id": "47d47728-5685-480f-bb44-bf90b6bc0ab7",
   "metadata": {},
   "source": [
    "ipython 解释器可以执行 python 命令，代码块以及整个python 脚本的功能；"
   ]
  },
  {
   "cell_type": "code",
   "execution_count": 10,
   "id": "85822f6a-0ed3-4200-a8eb-a1c4307093cf",
   "metadata": {},
   "outputs": [],
   "source": [
    "a = 5"
   ]
  },
  {
   "cell_type": "code",
   "execution_count": 11,
   "id": "69ddfd2b-f31d-4ede-9b7d-e42a538b4c1b",
   "metadata": {},
   "outputs": [
    {
     "data": {
      "text/plain": [
       "5"
      ]
     },
     "execution_count": 11,
     "metadata": {},
     "output_type": "execute_result"
    }
   ],
   "source": [
    "a"
   ]
  },
  {
   "cell_type": "code",
   "execution_count": 10,
   "id": "7cd02d4d-b73e-4648-8214-22924aad0801",
   "metadata": {},
   "outputs": [],
   "source": [
    "import numpy as np "
   ]
  },
  {
   "cell_type": "code",
   "execution_count": 13,
   "id": "69a150a7-ffee-465d-bd1f-9e1321ce9d84",
   "metadata": {},
   "outputs": [],
   "source": [
    "data = {i : np.random.randn() for i in range(7)}"
   ]
  },
  {
   "cell_type": "code",
   "execution_count": 14,
   "id": "f6bfeaaa-b727-4b46-9d51-4f665262ecda",
   "metadata": {},
   "outputs": [
    {
     "data": {
      "text/plain": [
       "{0: -0.14617605591457358,\n",
       " 1: -0.37887911672200164,\n",
       " 2: -1.0305842461009953,\n",
       " 3: -0.8928947156253149,\n",
       " 4: 0.5077735207884764,\n",
       " 5: 0.09842236533128763,\n",
       " 6: 1.7572301105809296}"
      ]
     },
     "execution_count": 14,
     "metadata": {},
     "output_type": "execute_result"
    }
   ],
   "source": [
    "data"
   ]
  },
  {
   "cell_type": "markdown",
   "id": "f4f50f2a-6139-4cc6-ad00-2d30891ab259",
   "metadata": {},
   "source": [
    "### 2.2.2 运行 jupyter notebook "
   ]
  },
  {
   "cell_type": "markdown",
   "id": "60cdf6c6-1b95-4164-9ecb-599384a091b9",
   "metadata": {},
   "source": [
    "jupyter notebook 是一种交互式的文档类型，可以用于编写代码/文本/数据可视化以及其他输出；jupyter notebook 与内核交互，内核时编程语言的交互式计算协议的实现；"
   ]
  },
  {
   "cell_type": "markdown",
   "id": "e724f04c-1476-4dfb-aa66-dd266ffbf5dc",
   "metadata": {},
   "source": [
    "python 的 jupyter 内核使用 ipython 系统进行内部轰动；终端使用 `jupyter notebook` 启动；启动后可以通过 http 地址来浏览 notebook，地址是 http://localhost:8888/。"
   ]
  },
  {
   "cell_type": "markdown",
   "id": "633f8373-a7de-4cd6-a2a5-ee10424c80de",
   "metadata": {},
   "source": [
    "### 2.2.3 Tab 补全"
   ]
  },
  {
   "cell_type": "markdown",
   "id": "a61e390c-17c7-4f2e-bcdc-ce3d11f8a297",
   "metadata": {},
   "source": [
    "可以对变量名，对象属性/方法，模块方法以及文件路径进行补全；还可对函数含有等号的关键字参数进行补全；"
   ]
  },
  {
   "cell_type": "code",
   "execution_count": 16,
   "id": "2661a2af-a9b9-4da8-b0b2-5b99645babe2",
   "metadata": {},
   "outputs": [],
   "source": [
    "an_apple = 27"
   ]
  },
  {
   "cell_type": "code",
   "execution_count": 17,
   "id": "30ef16da-9abf-415f-8658-1f0567a51d0e",
   "metadata": {},
   "outputs": [],
   "source": [
    "an_example = 42"
   ]
  },
  {
   "cell_type": "code",
   "execution_count": 21,
   "id": "f5ce2894-0370-449f-8c43-19b477632771",
   "metadata": {},
   "outputs": [
    {
     "data": {
      "text/plain": [
       "<function any(iterable, /)>"
      ]
     },
     "execution_count": 21,
     "metadata": {},
     "output_type": "execute_result"
    }
   ],
   "source": [
    "# an<Tab> 会提示 an_apple an_example any\n",
    "an"
   ]
  },
  {
   "cell_type": "code",
   "execution_count": 22,
   "id": "828f40a1-170f-458c-a69f-58a9a90dbb64",
   "metadata": {},
   "outputs": [],
   "source": [
    "b = [1, 2, 3]"
   ]
  },
  {
   "cell_type": "code",
   "execution_count": null,
   "id": "bb56ac18-8bc0-4238-855d-7169bb85456f",
   "metadata": {},
   "outputs": [],
   "source": [
    "# b.<Tab> 会提示 b.appand b.count b.insert b.reverse b.clear b.extend b.pop b.sort b.copy b.index b.remove\n",
    "b."
   ]
  },
  {
   "cell_type": "code",
   "execution_count": 23,
   "id": "0c3edb82-f43e-4a80-b36f-2c8400bb16db",
   "metadata": {},
   "outputs": [],
   "source": [
    "import datetime "
   ]
  },
  {
   "cell_type": "code",
   "execution_count": null,
   "id": "6944f11c-b333-40d3-8f28-a443f67b0695",
   "metadata": {},
   "outputs": [],
   "source": [
    "# datetime.<Tab> 会提示 datetime.date datetime.MAXYEAR datetime.timedelta datetime.datetime datetime.MINYEAR datetime.timezone datetime.datetime_CAPI datetime.time datetime.tzinfo\n",
    "datetime."
   ]
  },
  {
   "cell_type": "code",
   "execution_count": null,
   "id": "2375c8f8-d1b7-4e06-ab91-385fa53e3626",
   "metadata": {},
   "outputs": [],
   "source": [
    "# .ipynb_checkpoints/<Tab> 文件夹下的文件\n",
    ".ipynb_checkpoints/"
   ]
  },
  {
   "cell_type": "markdown",
   "id": "78e04e52-1068-47c6-919d-78becd139a1a",
   "metadata": {},
   "source": [
    "路径补全可以配合`%run` 一起使用，运行文件下的可执行文件"
   ]
  },
  {
   "cell_type": "code",
   "execution_count": 29,
   "id": "64090b6d-346b-448a-bf80-bbfe50c9b458",
   "metadata": {},
   "outputs": [],
   "source": [
    "def func_with_keywords(abra=1,abbra=2,abbbra=3):\n",
    "    return abra,abbra,abbbra"
   ]
  },
  {
   "cell_type": "code",
   "execution_count": null,
   "id": "38ad5673-cd58-4c06-a988-4e4f9d94f5aa",
   "metadata": {},
   "outputs": [],
   "source": [
    "# func_with_keywords(ab<Tab> 补全关键字参数\n",
    "func_with_keywords(ab"
   ]
  },
  {
   "cell_type": "markdown",
   "id": "41b5bd94-f1fd-40f2-a22c-fca637e3e2c6",
   "metadata": {},
   "source": [
    "### 2.2.4 内省"
   ]
  },
  {
   "cell_type": "markdown",
   "id": "9aa8dc6a-d320-4524-8f05-fee7dee55b37",
   "metadata": {},
   "source": [
    "在变量名后加一个 `?` 可以显示一些关于对象的概要信息；"
   ]
  },
  {
   "cell_type": "code",
   "execution_count": 31,
   "id": "8598d700-3cbb-4386-915a-d2a349dba310",
   "metadata": {},
   "outputs": [
    {
     "data": {
      "text/plain": [
       "\u001b[1;31mType:\u001b[0m        list\n",
       "\u001b[1;31mString form:\u001b[0m [1, 2, 3]\n",
       "\u001b[1;31mLength:\u001b[0m      3\n",
       "\u001b[1;31mDocstring:\u001b[0m  \n",
       "Built-in mutable sequence.\n",
       "\n",
       "If no argument is given, the constructor creates a new empty list.\n",
       "The argument must be an iterable if specified."
      ]
     },
     "metadata": {},
     "output_type": "display_data"
    }
   ],
   "source": [
    "b?"
   ]
  },
  {
   "cell_type": "markdown",
   "id": "4eb02a20-f781-4768-b3cd-f83f88f455e9",
   "metadata": {},
   "source": [
    "这就是`对象内省`；如果对象是一个函数或者实例方法且文档字符串已经写好，则文档字符串也会显示出来；"
   ]
  },
  {
   "cell_type": "code",
   "execution_count": 33,
   "id": "11baccc1-b049-4fb2-ba1c-7276671456e8",
   "metadata": {},
   "outputs": [],
   "source": [
    "def add_members(a,b):\n",
    "    \"\"\"\n",
    "    Add two numbers together\n",
    "    \n",
    "    returns \n",
    "    ----------\n",
    "    the_sum:type of arguments\n",
    "    \"\"\"\n",
    "    return a + b\n",
    "    "
   ]
  },
  {
   "cell_type": "code",
   "execution_count": 34,
   "id": "a0ac6e21-e7f8-4a40-8af2-9526c1d594d2",
   "metadata": {},
   "outputs": [
    {
     "data": {
      "text/plain": [
       "\u001b[1;31mSignature:\u001b[0m \u001b[0madd_members\u001b[0m\u001b[1;33m(\u001b[0m\u001b[0ma\u001b[0m\u001b[1;33m,\u001b[0m \u001b[0mb\u001b[0m\u001b[1;33m)\u001b[0m\u001b[1;33m\u001b[0m\u001b[1;33m\u001b[0m\u001b[0m\n",
       "\u001b[1;31mDocstring:\u001b[0m\n",
       "Add two numbers together\n",
       "\n",
       "returns \n",
       "----------\n",
       "the_sum:type of arguments\n",
       "\u001b[1;31mFile:\u001b[0m      c:\\users\\gxl\\appdata\\local\\temp\\ipykernel_16588\\613648481.py\n",
       "\u001b[1;31mType:\u001b[0m      function"
      ]
     },
     "metadata": {},
     "output_type": "display_data"
    }
   ],
   "source": [
    "add_members?"
   ]
  },
  {
   "cell_type": "markdown",
   "id": "5ac1fbcf-2d6b-4c10-a6e8-cdd506090072",
   "metadata": {},
   "source": [
    "使用两个`??` 可以显示函数的源代码！"
   ]
  },
  {
   "cell_type": "code",
   "execution_count": 35,
   "id": "57ee8133-e502-4954-8cdf-4718600db7d4",
   "metadata": {},
   "outputs": [
    {
     "data": {
      "text/plain": [
       "\u001b[1;31mSignature:\u001b[0m \u001b[0madd_members\u001b[0m\u001b[1;33m(\u001b[0m\u001b[0ma\u001b[0m\u001b[1;33m,\u001b[0m \u001b[0mb\u001b[0m\u001b[1;33m)\u001b[0m\u001b[1;33m\u001b[0m\u001b[1;33m\u001b[0m\u001b[0m\n",
       "\u001b[1;31mSource:\u001b[0m   \n",
       "\u001b[1;32mdef\u001b[0m \u001b[0madd_members\u001b[0m\u001b[1;33m(\u001b[0m\u001b[0ma\u001b[0m\u001b[1;33m,\u001b[0m\u001b[0mb\u001b[0m\u001b[1;33m)\u001b[0m\u001b[1;33m:\u001b[0m\u001b[1;33m\n",
       "\u001b[0m    \u001b[1;34m\"\"\"\n",
       "    Add two numbers together\n",
       "    \n",
       "    returns \n",
       "    ----------\n",
       "    the_sum:type of arguments\n",
       "    \"\"\"\u001b[0m\u001b[1;33m\n",
       "\u001b[0m    \u001b[1;32mreturn\u001b[0m \u001b[0ma\u001b[0m \u001b[1;33m+\u001b[0m \u001b[0mb\u001b[0m\u001b[1;33m\u001b[0m\u001b[1;33m\u001b[0m\u001b[0m\n",
       "\u001b[1;31mFile:\u001b[0m      c:\\users\\gxl\\appdata\\local\\temp\\ipykernel_16588\\613648481.py\n",
       "\u001b[1;31mType:\u001b[0m      function"
      ]
     },
     "metadata": {},
     "output_type": "display_data"
    }
   ],
   "source": [
    "add_members??"
   ]
  },
  {
   "cell_type": "markdown",
   "id": "9ab0af4f-6900-4eb1-a691-fc1de30054b6",
   "metadata": {},
   "source": [
    "`?`的终极用途，是可以像标准 Unix 或者 Windows 命令一样搜索 Ipython 命名空间。把一些字符和通配符（星号*）结合在一起，会显示所有匹配通配符表达式的命名；"
   ]
  },
  {
   "cell_type": "code",
   "execution_count": 36,
   "id": "5b33e97c-0345-4805-9d7a-338626992e8c",
   "metadata": {},
   "outputs": [
    {
     "data": {
      "text/plain": [
       "np.__loader__\n",
       "np.load\n",
       "np.loadtxt"
      ]
     },
     "metadata": {},
     "output_type": "display_data"
    }
   ],
   "source": [
    "# 获取 numpy 顶层函数中包含 load 的函数名列表；\n",
    "np.*load*?"
   ]
  },
  {
   "cell_type": "markdown",
   "id": "c18d28cf-b4e2-4ba8-8b34-6505b757ec46",
   "metadata": {},
   "source": [
    "### 2.2.5 %run 命令"
   ]
  },
  {
   "cell_type": "markdown",
   "id": "4e4576d7-2108-4e78-b269-2adfa7eb4123",
   "metadata": {},
   "source": [
    "可以使用 `%run` 命令运行任意的 python 程序文件；文件中定义的所有变量（导入的，函数中定义的，全局定义的）在运行后，可以在 Ipython 命令行中使用（除非出现某种异常）。"
   ]
  },
  {
   "cell_type": "code",
   "execution_count": 37,
   "id": "d6715748-31d6-464d-97ec-9d5423cafda0",
   "metadata": {},
   "outputs": [],
   "source": [
    "%run ipython_script_test.py"
   ]
  },
  {
   "cell_type": "code",
   "execution_count": 38,
   "id": "aeca5042-4aa8-433a-8ec1-02cdcc25b401",
   "metadata": {},
   "outputs": [
    {
     "data": {
      "text/plain": [
       "7.5"
      ]
     },
     "execution_count": 38,
     "metadata": {},
     "output_type": "execute_result"
    }
   ],
   "source": [
    "c"
   ]
  },
  {
   "cell_type": "code",
   "execution_count": 39,
   "id": "57b7915b-e275-436f-ac8e-4e12a25e020b",
   "metadata": {},
   "outputs": [
    {
     "data": {
      "text/plain": [
       "1.4666666666666666"
      ]
     },
     "execution_count": 39,
     "metadata": {},
     "output_type": "execute_result"
    }
   ],
   "source": [
    "result"
   ]
  },
  {
   "cell_type": "markdown",
   "id": "61cb87bb-5eab-46d9-8690-aaeafc7d24c2",
   "metadata": {},
   "source": [
    "python 脚本需要传递参数(通过 sys.argv 获得），直接在脚本路径后加上参数进行传递；"
   ]
  },
  {
   "cell_type": "markdown",
   "id": "cfdb97c5-4379-4397-83c9-af7a5d26626b",
   "metadata": {},
   "source": [
    "如果待执行的脚本想使用交互式 ipython 命名空间已有的变量，使用 `%run-i` 代替普通的 `%run` 命令； "
   ]
  },
  {
   "cell_type": "markdown",
   "id": "986ca341-836c-4994-ae8d-5dbcdb4ff649",
   "metadata": {},
   "source": [
    "如果你想将脚本导入一个代码单元，可以使用 `%load` 魔术函数；"
   ]
  },
  {
   "cell_type": "code",
   "execution_count": 41,
   "id": "f9949ac8-7533-4c8f-b5f4-fc83e2c46062",
   "metadata": {},
   "outputs": [],
   "source": [
    "# %load ipython_script_test.py\n",
    "def f(x,y,z):\n",
    "    return (x+y)/z\n",
    "\n",
    "a = 5\n",
    "b = 6\n",
    "c = 7.5\n",
    "\n",
    "result = f(a,b,c)"
   ]
  },
  {
   "cell_type": "markdown",
   "id": "44b4cee7-075e-417b-b48d-f85b3fe361b8",
   "metadata": {},
   "source": [
    "#### 2.2.5.1 中断运行中的代码"
   ]
  },
  {
   "cell_type": "markdown",
   "id": "3a88a7b4-4523-43d7-acdd-6cb3003e8434",
   "metadata": {},
   "source": [
    "任意代码运行时，按下`CTRL-C`，无论脚本是通过 %run 运行还是其他长命令运行，都将引起 KeyboardInterrupt。除了某些特殊情况，将导致所有的 Python 陈旭立即停止运行；"
   ]
  },
  {
   "cell_type": "markdown",
   "id": "dcec0d41-3806-46c0-aaab-9e4758c61b53",
   "metadata": {},
   "source": [
    "当一段 Python 代码被其他已经编译的扩展模块调用时，按下 Ctrl-C 并不会让程序立即停止运行。在这些情况下，你需要等到控制流重新返回Python解释器，在更糟糕的情况下可能要强制结束Python 进程。"
   ]
  },
  {
   "cell_type": "markdown",
   "id": "f04ebd47-ef35-48d5-93fa-0c2c8ca3c316",
   "metadata": {},
   "source": [
    "### 2.2.6 执行剪切板中的程序"
   ]
  },
  {
   "cell_type": "markdown",
   "id": "0a57ad66-1380-4b94-ac5f-6c188645d048",
   "metadata": {},
   "source": [
    "jupyter notebook 中可以将代码复制粘贴到代码单元中，然后运行；"
   ]
  },
  {
   "cell_type": "markdown",
   "id": "01842611-e2f0-4bdd-8b84-fa7263395a20",
   "metadata": {},
   "source": [
    "在 Ipython 中可以直接运行剪贴板中的程序。假设在剪贴板中代码如下：\n",
    "```\n",
    "x = 5\n",
    "y = 7\n",
    "if x > 5:\n",
    "    x += 1\n",
    "    y += 8\n",
    "```"
   ]
  },
  {
   "cell_type": "markdown",
   "id": "fe40d468-1d25-4fa5-aeb5-a0737ef8ebae",
   "metadata": {},
   "source": [
    "使用以上代码，最简单的方法就是`%paste`和`%cpaste`魔术函数。"
   ]
  },
  {
   "cell_type": "markdown",
   "id": "141f514c-b3e6-42f8-9985-b1abd494f65a",
   "metadata": {},
   "source": [
    "`%paste`会获得剪贴板中的所有文本，并在命令行中作为一个代码块去执行："
   ]
  },
  {
   "cell_type": "markdown",
   "id": "d9fd2e73-1080-49ba-9e16-a79a44a1cdb4",
   "metadata": {},
   "source": [
    "使用`%cpaste`，你可以自由地在执行代码前尽可能多地粘贴代码。你也许会想着使用`%cpaste`在执行前看下粘贴的代码，如果你发现粘贴的代码有误，可以按下`Ctrl-C`来中断`%cpaste`提示符。"
   ]
  },
  {
   "cell_type": "markdown",
   "id": "7c3ef1fa-1ad7-4769-a6f1-0335688b8284",
   "metadata": {},
   "source": [
    "### 2.2.7 Ipython 终端快捷键 "
   ]
  },
  {
   "cell_type": "markdown",
   "id": "c03ec39d-c99e-416a-9171-57f1dcdde526",
   "metadata": {},
   "source": [
    "Ipython 有很多用于浏览提示、浏览历史命令的快捷键；以下是最常用的快捷键。"
   ]
  },
  {
   "cell_type": "markdown",
   "id": "4f7c06ea-8fe6-4390-9c64-33fae676ed58",
   "metadata": {},
   "source": [
    "![jupyter](./Ipython终端光标移动快捷键.png)"
   ]
  },
  {
   "cell_type": "markdown",
   "id": "c05bbba5-68b2-448b-8523-b249e45b663f",
   "metadata": {},
   "source": [
    "![](./Ipython终端光标移动常用快捷键.png)"
   ]
  },
  {
   "cell_type": "markdown",
   "id": "46407abf-7ca4-4994-9845-2eb7da67e210",
   "metadata": {},
   "source": [
    "jupyter 的快捷键参看集成在菜单栏中的帮助系统；可以参考博客 [Jupyter Notebook 的快捷键](https://notebook.community/karst87/ml/00_basic/901_JupyterNotebook%20%E7%9A%84%E5%BF%AB%E6%8D%B7%E9%94%AE)"
   ]
  },
  {
   "cell_type": "markdown",
   "id": "a55a8cea-15ac-4969-b08b-ca70bb30e34e",
   "metadata": {},
   "source": [
    "### 2.2.8 关于魔术命令"
   ]
  },
  {
   "cell_type": "markdown",
   "id": "537a5c71-4fe3-4b03-8273-f2f85dafa588",
   "metadata": {},
   "source": [
    "Ipython 的特殊命令（没有被内建到 Python 自身中去）被称为“魔术”命令。这些命令被设计用于简化常见任务，确保用户更容易控制 Ipython 系统的行为；"
   ]
  },
  {
   "cell_type": "markdown",
   "id": "aef33380-7c82-47f6-b84a-5012fb6777bb",
   "metadata": {},
   "source": [
    "魔术命令的前缀符号位 `%`；例如，可以使用`timeit` 来检查一段 python语句的执行时间；"
   ]
  },
  {
   "cell_type": "code",
   "execution_count": 46,
   "id": "327247dc-a910-49f1-abaf-6f343258da3d",
   "metadata": {},
   "outputs": [],
   "source": [
    "a = np.random.randn(100,100)"
   ]
  },
  {
   "cell_type": "code",
   "execution_count": 48,
   "id": "cbe71567-86b0-44cf-b0c5-7ce4f4632ed8",
   "metadata": {},
   "outputs": [
    {
     "name": "stdout",
     "output_type": "stream",
     "text": [
      "21.2 µs ± 480 ns per loop (mean ± std. dev. of 7 runs, 10,000 loops each)\n"
     ]
    }
   ],
   "source": [
    "%timeit np.dot(a,a)"
   ]
  },
  {
   "cell_type": "markdown",
   "id": "65c20c9d-9656-466f-9011-abcace185e4a",
   "metadata": {},
   "source": [
    "大多数魔术命令都可以使用`?`查看额外的“命令行”选项："
   ]
  },
  {
   "cell_type": "code",
   "execution_count": 1,
   "id": "7e48f7fb-4787-4f86-a39b-21229182a6be",
   "metadata": {},
   "outputs": [
    {
     "data": {
      "text/plain": [
       "\u001b[1;31mDocstring:\u001b[0m\n",
       "::\n",
       "\n",
       "  %debug [--breakpoint FILE:LINE] [statement ...]\n",
       "\n",
       "Activate the interactive debugger.\n",
       "\n",
       "This magic command support two ways of activating debugger.\n",
       "One is to activate debugger before executing code.  This way, you\n",
       "can set a break point, to step through the code from the point.\n",
       "You can use this mode by giving statements to execute and optionally\n",
       "a breakpoint.\n",
       "\n",
       "The other one is to activate debugger in post-mortem mode.  You can\n",
       "activate this mode simply running %debug without any argument.\n",
       "If an exception has just occurred, this lets you inspect its stack\n",
       "frames interactively.  Note that this will always work only on the last\n",
       "traceback that occurred, so you must call this quickly after an\n",
       "exception that you wish to inspect has fired, because if another one\n",
       "occurs, it clobbers the previous one.\n",
       "\n",
       "If you want IPython to automatically do this on every exception, see\n",
       "the %pdb magic for more details.\n",
       "\n",
       ".. versionchanged:: 7.3\n",
       "    When running code, user variables are no longer expanded,\n",
       "    the magic line is always left unmodified.\n",
       "\n",
       "positional arguments:\n",
       "  statement             Code to run in debugger. You can omit this in cell magic mode.\n",
       "\n",
       "options:\n",
       "  --breakpoint <FILE:LINE>, -b <FILE:LINE>\n",
       "                        Set break point at LINE in FILE.\n",
       "\u001b[1;31mFile:\u001b[0m      c:\\users\\gxl\\appdata\\local\\programs\\miniforge3\\envs\\pydata-book\\lib\\site-packages\\ipython\\core\\magics\\execution.py"
      ]
     },
     "metadata": {},
     "output_type": "display_data"
    }
   ],
   "source": [
    "%debug?"
   ]
  },
  {
   "cell_type": "markdown",
   "id": "0439de93-8d6a-478a-83c1-6f70c4ef2a79",
   "metadata": {},
   "source": [
    "魔术函数也可以不加百分号，只要没有变量被定义为于魔术函数相同的名字即可。这种特性称为自动魔术，通过 `%automagic`进行启用/禁用。"
   ]
  },
  {
   "cell_type": "markdown",
   "id": "3f4aed81-6d29-492a-b6d6-a71d927df810",
   "metadata": {},
   "source": [
    "一些魔术函数也可以像python中函数一样，其输出可以赋给一个变量："
   ]
  },
  {
   "cell_type": "code",
   "execution_count": 5,
   "id": "3b53d1e8-daf2-4fd3-aa36-cb04c45cd757",
   "metadata": {},
   "outputs": [],
   "source": [
    "foo = %pwd"
   ]
  },
  {
   "cell_type": "code",
   "execution_count": 6,
   "id": "7de875de-46de-42a3-ac59-0236d8264d89",
   "metadata": {},
   "outputs": [
    {
     "data": {
      "text/plain": [
       "'D:\\\\02_notebook\\\\jupyter_notebook\\\\python_for_data_analysis\\\\ch02'"
      ]
     },
     "execution_count": 6,
     "metadata": {},
     "output_type": "execute_result"
    }
   ],
   "source": [
    "foo"
   ]
  },
  {
   "cell_type": "markdown",
   "id": "64750522-0a6b-4481-82ce-c389f2a09905",
   "metadata": {},
   "source": [
    "Ipython 的文档可以在系统内访问，建议使用 `%quickref` 或者 `%magic` 探索所有特殊命令；"
   ]
  },
  {
   "cell_type": "markdown",
   "id": "e949da3c-46e0-4336-814f-87875f84305e",
   "metadata": {},
   "source": [
    "![](./Ipython中搞笑进行交互式计算和Python开发常用的重要命令.png)"
   ]
  },
  {
   "cell_type": "markdown",
   "id": "89240b78-22ac-4906-925a-1cca9cf2ed43",
   "metadata": {},
   "source": [
    "### 2.2.9 matplotlib 集成"
   ]
  },
  {
   "cell_type": "markdown",
   "id": "c48114f5-6e37-4d24-9a9d-c4c371f58d05",
   "metadata": {},
   "source": [
    "`%matplotlib` 魔术函数可以设置 matplotlib 与 Ipyhotn 命令行或者 jupyter notebook 的集成。这个命令很重要，否则你创建的图可能不会出现在 notebook，或者直接结束也无法控制会话（命令行）。"
   ]
  },
  {
   "cell_type": "markdown",
   "id": "7076dbf1-ce31-44eb-a51a-2b1c304d4067",
   "metadata": {},
   "source": [
    "在 Ipython 命令行中，运行 `%matplotlib` 命令可以生成多个绘图窗口，而无需干扰控制台的会话。"
   ]
  },
  {
   "cell_type": "code",
   "execution_count": 12,
   "id": "37113111-aee9-437f-a40e-2b8b2da4c033",
   "metadata": {},
   "outputs": [
    {
     "name": "stdout",
     "output_type": "stream",
     "text": [
      "Using matplotlib backend: QtAgg\n"
     ]
    }
   ],
   "source": [
    "%matplotlib"
   ]
  },
  {
   "cell_type": "code",
   "execution_count": null,
   "id": "082bc653-fdd9-451e-9377-9550e46a0bce",
   "metadata": {},
   "outputs": [],
   "source": [
    "在 Jupyter 中命令有些不同，使用 `%matplotlib inline`"
   ]
  },
  {
   "cell_type": "code",
   "execution_count": 8,
   "id": "f3532100-6ef9-4cd3-aba8-bfbb531c4245",
   "metadata": {},
   "outputs": [],
   "source": [
    "%matplotlib inline"
   ]
  },
  {
   "cell_type": "code",
   "execution_count": 11,
   "id": "e28c8bb5-a488-4b35-b32e-de98b994d5ab",
   "metadata": {},
   "outputs": [
    {
     "data": {
      "text/plain": [
       "[<matplotlib.lines.Line2D at 0x1ff2f333d60>]"
      ]
     },
     "execution_count": 11,
     "metadata": {},
     "output_type": "execute_result"
    },
    {
     "data": {
      "image/png": "[encoded data removed]",
      "text/plain": [
       "<Figure size 640x480 with 1 Axes>"
      ]
     },
     "metadata": {},
     "output_type": "display_data"
    }
   ],
   "source": [
    "import matplotlib.pyplot as plt\n",
    "plt.plot(np.random.randn(50).cumsum())"
   ]
  },
  {
   "cell_type": "markdown",
   "id": "11a9d450-afb8-4946-ab63-9c0c474bb1a5",
   "metadata": {},
   "source": [
    "## 2.3 Python语言基础"
   ]
  },
  {
   "cell_type": "markdown",
   "id": "d5b07ce3-a86f-493d-8aee-4ee23d0ed2aa",
   "metadata": {},
   "source": [
    "python 编程核心概念以及语言机制方面的概述"
   ]
  },
  {
   "cell_type": "markdown",
   "id": "203ad058-9372-4273-91d3-f1282578bbae",
   "metadata": {},
   "source": [
    "### 2.3.1 语言语义"
   ]
  },
  {
   "cell_type": "markdown",
   "id": "bbbd4930-28fa-480d-aea0-0b99ba77ef84",
   "metadata": {},
   "source": [
    "Python 语言的设计侧重于可读性、易用性及清晰性；"
   ]
  },
  {
   "cell_type": "markdown",
   "id": "83270ef2-e396-4d41-8011-7f099b70f3a0",
   "metadata": {},
   "source": [
    "#### 2.3.1.1 缩进，而不是大括号"
   ]
  },
  {
   "cell_type": "markdown",
   "id": "f32ece39-1006-493f-9400-84e4ba81bbb2",
   "metadata": {},
   "source": [
    "python 使用缩进（tab 或者 4个空格，建议使用 4 个空格）来组织代码；一个冒号代表一个缩进代码块的开始，单个代码块必须保持相同的缩进，直到代码块结束。"
   ]
  },
  {
   "cell_type": "markdown",
   "id": "ee432704-efd4-4c48-8e31-3caa707f7474",
   "metadata": {},
   "source": [
    "```\n",
    "for x in array:\n",
    "    if x < pivot:\n",
    "        less.append(x)\n",
    "    else:\n",
    "        greater.append(x)\n",
    "```"
   ]
  },
  {
   "cell_type": "markdown",
   "id": "bba4e52c-690e-44b4-a016-ce161ee31cfa",
   "metadata": {},
   "source": [
    "python 语句不以分号结尾，但是分号可以用在一行中多个语句之间进行区分："
   ]
  },
  {
   "cell_type": "code",
   "execution_count": 4,
   "id": "e852e006-faf1-40b5-9dbf-c54210fa1bb1",
   "metadata": {},
   "outputs": [],
   "source": [
    "a = 5;b = 6;c = 7"
   ]
  },
  {
   "cell_type": "markdown",
   "id": "4ddf8b34-b943-4614-af24-4b6cdb0beaf8",
   "metadata": {},
   "source": [
    "不鼓励将多条代码写到一行中，这样会使代码可读性变差；"
   ]
  },
  {
   "cell_type": "markdown",
   "id": "6db74b18-64d1-4e1f-a1e7-b6e49887ea4c",
   "metadata": {},
   "source": [
    "#### 2.3.1.2 一切皆为对象"
   ]
  },
  {
   "cell_type": "markdown",
   "id": "07336449-f40c-462b-898f-36474245b783",
   "metadata": {},
   "source": [
    "Python 语言的一个重要的特征就是对象模型的一致性。每个数值、字符串、数据结构、函数、类、模块及所有存在 Python 解释器中的事物，都是 Python 对象"
   ]
  },
  {
   "cell_type": "markdown",
   "id": "63980cd9-0df9-4f11-8958-f9cd2e4cc4ab",
   "metadata": {},
   "source": [
    "#### 2.3.1.3 注释"
   ]
  },
  {
   "cell_type": "markdown",
   "id": "b1207b3c-e2c6-4ef9-a05a-80891cbd366e",
   "metadata": {},
   "source": [
    "所有写在 `#` 之后的文本会被python解释器忽略，因此通常使用 `#` 在代码中添加注释。"
   ]
  },
  {
   "cell_type": "markdown",
   "id": "85e8a8af-0854-455e-a75d-e06d283e0feb",
   "metadata": {},
   "source": [
    "#### 2.3.1.4 函数和对象方法的调用"
   ]
  },
  {
   "cell_type": "markdown",
   "id": "7f0facc6-e99f-46cc-9929-b5bf0d680cef",
   "metadata": {},
   "source": [
    "调用函数时，向函数传入0个活多个参数，通常会将返回值复制给一个变量："
   ]
  },
  {
   "cell_type": "markdown",
   "id": "6b1cf7cf-b5be-476f-9fe3-5a1dd613e875",
   "metadata": {},
   "source": [
    "```\n",
    "result = f(x,y,z)\n",
    "```"
   ]
  },
  {
   "cell_type": "markdown",
   "id": "79f69773-49c8-4905-8552-0913cc57a21c",
   "metadata": {},
   "source": [
    "几乎所有的对象都有内部函数，称为方法，可以访问到对象内部的内容。"
   ]
  },
  {
   "cell_type": "markdown",
   "id": "6d736874-26ef-485a-a5ab-d8f3717d1b9a",
   "metadata": {},
   "source": [
    "```\n",
    "obj.some_method(x,y,z)\n",
    "```"
   ]
  },
  {
   "cell_type": "markdown",
   "id": "390a77e8-55d6-49ab-b51b-9b571ace5cf5",
   "metadata": {},
   "source": [
    "函数参数既可以是位置参数也可以是关键字参数："
   ]
  },
  {
   "cell_type": "markdown",
   "id": "65161081-c1fd-4ddb-b95d-5b2b7f2f95e2",
   "metadata": {},
   "source": [
    "```\n",
    "result = f(a,b,c,d=5,e='foo')\n",
    "```"
   ]
  },
  {
   "cell_type": "markdown",
   "id": "c32e6f54-e899-45fd-bb6e-f12e417661fd",
   "metadata": {},
   "source": [
    "#### 2.3.1.5 变量和参数传递"
   ]
  },
  {
   "cell_type": "markdown",
   "id": "c1d55e8b-3d5b-414b-b32f-37b47e84a054",
   "metadata": {},
   "source": [
    "python中，给变量赋值时，就创建了一个指向对象的引用；"
   ]
  },
  {
   "cell_type": "code",
   "execution_count": 9,
   "id": "c677826b-7cbc-4818-81cb-a5ba16c31bda",
   "metadata": {},
   "outputs": [],
   "source": [
    "a = [1, 2, 3]"
   ]
  },
  {
   "cell_type": "markdown",
   "id": "ec1412e8-9a17-40c4-9caf-341aebb0c7a9",
   "metadata": {},
   "source": [
    "当在将 a 赋值 给 b，在python中， a 和 b 就指向了同一个对象；"
   ]
  },
  {
   "cell_type": "code",
   "execution_count": 10,
   "id": "c92a6585-90d1-4b1b-be13-d48d76b69493",
   "metadata": {},
   "outputs": [],
   "source": [
    "b = a"
   ]
  },
  {
   "cell_type": "code",
   "execution_count": 15,
   "id": "7c67ef01-adeb-4f99-adf1-73ce4f081e73",
   "metadata": {},
   "outputs": [
    {
     "data": {
      "text/plain": [
       "[1, 2, 3, 4, 4]"
      ]
     },
     "execution_count": 15,
     "metadata": {},
     "output_type": "execute_result"
    }
   ],
   "source": [
    "a.append(4)\n",
    "b"
   ]
  },
  {
   "cell_type": "markdown",
   "id": "bbe22048-454c-4829-8345-4cec2205fb20",
   "metadata": {},
   "source": [
    "当将对象作为参数传入函数时，会创建局部变量引用原始对象而无需复制；如果你在函数内部给一个变量绑定对象，这个变量不会覆盖函数外部作用域同名变量；"
   ]
  },
  {
   "cell_type": "code",
   "execution_count": 12,
   "id": "e77edc54-f753-47ed-bb0f-90e064820ecf",
   "metadata": {},
   "outputs": [],
   "source": [
    "data = [1, 2, 3]"
   ]
  },
  {
   "cell_type": "code",
   "execution_count": 16,
   "id": "b99f4139-4b64-44a8-8d54-f0e8695e6765",
   "metadata": {},
   "outputs": [],
   "source": [
    "def append_element(some_list,element):\n",
    "    data = []\n",
    "    some_list.append(element)"
   ]
  },
  {
   "cell_type": "code",
   "execution_count": 17,
   "id": "cff85431-27c2-487c-aa0f-0fd9661ccb50",
   "metadata": {},
   "outputs": [
    {
     "data": {
      "text/plain": [
       "[1, 2, 3, 4, 4]"
      ]
     },
     "execution_count": 17,
     "metadata": {},
     "output_type": "execute_result"
    }
   ],
   "source": [
    "append_element(data,4)\n",
    "data"
   ]
  },
  {
   "cell_type": "markdown",
   "id": "693e8d25-51f0-4028-8a5a-838fba0fef1e",
   "metadata": {},
   "source": [
    "#### 2.3.1.6 动态引用、强类型"
   ]
  },
  {
   "cell_type": "markdown",
   "id": "6cc5106c-b6cb-4be0-aa6a-35cc097db589",
   "metadata": {},
   "source": [
    "python 不像 java/c++ 那样对变量的类型进行声明；变量对于对象来说只是特定命名空间中的名称；类型信息是存储在对象自身之中的；"
   ]
  },
  {
   "cell_type": "markdown",
   "id": "bd792199-fbe5-4050-b71f-41f919d85bc9",
   "metadata": {},
   "source": [
    "python 被认为时强类型语言，这意味着所有的对象都拥有一个指定的类型（或类），隐式转换只在特定/明显的情况下发生："
   ]
  },
  {
   "cell_type": "code",
   "execution_count": 18,
   "id": "d2193c7d-d449-4f0b-a296-f3fd23ac8fd8",
   "metadata": {},
   "outputs": [],
   "source": [
    "a = 4.5"
   ]
  },
  {
   "cell_type": "code",
   "execution_count": 19,
   "id": "1ce4f435-8699-4226-9269-66565ae39862",
   "metadata": {},
   "outputs": [],
   "source": [
    "b = 2 "
   ]
  },
  {
   "cell_type": "code",
   "execution_count": 20,
   "id": "d5d9c505-1871-4abb-976e-3c7ff27186d8",
   "metadata": {},
   "outputs": [
    {
     "name": "stdout",
     "output_type": "stream",
     "text": [
      "a is <class 'float'>,b is <class 'int'>\n"
     ]
    }
   ],
   "source": [
    "# 字符串格式化，用于后面访问\n",
    "print(f'a is {type(a)},b is {type(b)}')"
   ]
  },
  {
   "cell_type": "code",
   "execution_count": 21,
   "id": "52a58ed6-a01d-4c81-916a-3708aeaf3402",
   "metadata": {},
   "outputs": [
    {
     "data": {
      "text/plain": [
       "2.25"
      ]
     },
     "execution_count": 21,
     "metadata": {},
     "output_type": "execute_result"
    }
   ],
   "source": [
    "a / b"
   ]
  },
  {
   "cell_type": "markdown",
   "id": "df3097cb-1640-4095-b562-e5a0d51706ba",
   "metadata": {},
   "source": [
    "这里 b 时整数，也被隐式转为浮点数进行运算；"
   ]
  },
  {
   "cell_type": "markdown",
   "id": "8668a97a-837d-4856-a89c-72c5806eaeee",
   "metadata": {},
   "source": [
    "可以使用 `isinstance` 函数来检查一个对象是否时特定类型的实例；"
   ]
  },
  {
   "cell_type": "code",
   "execution_count": 22,
   "id": "a9d8c14c-2de2-493f-a61a-e5a77cfde6ba",
   "metadata": {},
   "outputs": [
    {
     "data": {
      "text/plain": [
       "False"
      ]
     },
     "execution_count": 22,
     "metadata": {},
     "output_type": "execute_result"
    }
   ],
   "source": [
    "isinstance(a,int)"
   ]
  },
  {
   "cell_type": "markdown",
   "id": "935f14aa-aa04-41ea-894a-c9013edd1c03",
   "metadata": {},
   "source": [
    "`isinstance` 接受一个包含类型的元组，可以检查对象的类型是否在元组中的类型中；"
   ]
  },
  {
   "cell_type": "code",
   "execution_count": 23,
   "id": "4fefda44-f65e-4fe9-9aca-9bfac12253b0",
   "metadata": {},
   "outputs": [],
   "source": [
    "a = 5;b = 4.5"
   ]
  },
  {
   "cell_type": "code",
   "execution_count": 24,
   "id": "96328518-3ed6-4847-bcbc-ba4a87219458",
   "metadata": {},
   "outputs": [
    {
     "data": {
      "text/plain": [
       "True"
      ]
     },
     "execution_count": 24,
     "metadata": {},
     "output_type": "execute_result"
    }
   ],
   "source": [
    "isinstance(a,(int,float))"
   ]
  },
  {
   "cell_type": "code",
   "execution_count": 25,
   "id": "010544d4-0b7c-438d-9f1a-96aec8edbd2f",
   "metadata": {},
   "outputs": [
    {
     "data": {
      "text/plain": [
       "True"
      ]
     },
     "execution_count": 25,
     "metadata": {},
     "output_type": "execute_result"
    }
   ],
   "source": [
    "isinstance(b,(int,float))"
   ]
  },
  {
   "cell_type": "markdown",
   "id": "7805be6b-d405-4108-99e3-b3c63eed68db",
   "metadata": {},
   "source": [
    "#### 2.3.1.7 属性和方法"
   ]
  },
  {
   "cell_type": "markdown",
   "id": "35ff7add-b4e3-48fe-a709-e1fbeaed2c41",
   "metadata": {},
   "source": [
    "属性是对象内部引用的其他对象，方法是对象内部定义的函数；都可以同构形如 obj.attribute_name 的语法进行调用。"
   ]
  },
  {
   "cell_type": "code",
   "execution_count": 27,
   "id": "46c04727-8fa0-4009-b4f3-9230974e39a5",
   "metadata": {},
   "outputs": [],
   "source": [
    "# a.<Tab> 可以看一下可以访问的属性和方法\n",
    "a = 'foo'"
   ]
  },
  {
   "cell_type": "code",
   "execution_count": 28,
   "id": "0dc4efe4-bf88-43c5-b1cb-847379434ef7",
   "metadata": {},
   "outputs": [
    {
     "data": {
      "text/plain": [
       "'Foo'"
      ]
     },
     "execution_count": 28,
     "metadata": {},
     "output_type": "execute_result"
    }
   ],
   "source": [
    "a.capitalize()"
   ]
  },
  {
   "cell_type": "markdown",
   "id": "0ab3453f-cbf3-4958-8c49-0af95b838187",
   "metadata": {},
   "source": [
    "属性和方法也可以通过 `getattr` 函数获得；"
   ]
  },
  {
   "cell_type": "code",
   "execution_count": 31,
   "id": "7ca2ecff-ad8e-4ae2-8c12-ee528f1dc4a1",
   "metadata": {},
   "outputs": [
    {
     "data": {
      "text/plain": [
       "<function str.split(sep=None, maxsplit=-1)>"
      ]
     },
     "execution_count": 31,
     "metadata": {},
     "output_type": "execute_result"
    }
   ],
   "source": [
    "getattr(a,'split')"
   ]
  },
  {
   "cell_type": "markdown",
   "id": "08387d46-aa5f-496c-8b59-40714055ae08",
   "metadata": {},
   "source": [
    "其他语言中，通过变量名，访问对象通常被称为“反射”；它们可以用来高效地编写通用、可复用的代码；"
   ]
  },
  {
   "cell_type": "markdown",
   "id": "ee774fc5-4672-45ee-9b75-982d622f4399",
   "metadata": {},
   "source": [
    "#### 2.3.1.8 鸭子类型"
   ]
  },
  {
   "cell_type": "markdown",
   "id": "61c67915-1155-448e-9d05-6751d92df6ed",
   "metadata": {},
   "source": [
    "> “鸭子类型”的说法源于“一个东西走起来像鸭子叫起来像鸭子，那他就是鸭子”。"
   ]
  },
  {
   "cell_type": "markdown",
   "id": "38f5516c-71c7-48d5-af7e-55576bc32ca5",
   "metadata": {},
   "source": [
    "通常情况下，不关心某个对象的具体类型，而是关心它是否拥有某个特殊的方法或行为。例如，一个对象如果实现了迭代器协议（包含了__iter__魔术方法），那它一定是可以迭代的。可以通过 iter(） 方法进行验证；"
   ]
  },
  {
   "cell_type": "code",
   "execution_count": 33,
   "id": "0a9850f4-a6e1-4243-b459-548b57fd9f4a",
   "metadata": {},
   "outputs": [],
   "source": [
    "def isiterable(obj):\n",
    "    try:\n",
    "        iter(obj)\n",
    "        return True\n",
    "    except TypeError: # 不可遍历\n",
    "        return False"
   ]
  },
  {
   "cell_type": "markdown",
   "id": "7ae05c61-1ee8-45e2-abe9-219a42c28cf9",
   "metadata": {},
   "source": [
    "绝大部分 python 容器类型的对象，iter 函数都会返回 True;"
   ]
  },
  {
   "cell_type": "code",
   "execution_count": 34,
   "id": "72f19a9b-bf5c-4ad6-854d-83a0bd9ceaf0",
   "metadata": {},
   "outputs": [
    {
     "data": {
      "text/plain": [
       "True"
      ]
     },
     "execution_count": 34,
     "metadata": {},
     "output_type": "execute_result"
    }
   ],
   "source": [
    "isiterable('a string')"
   ]
  },
  {
   "cell_type": "code",
   "execution_count": 35,
   "id": "5082ca7f-7ff3-4fb6-9617-ac5422f1ece6",
   "metadata": {},
   "outputs": [
    {
     "data": {
      "text/plain": [
       "True"
      ]
     },
     "execution_count": 35,
     "metadata": {},
     "output_type": "execute_result"
    }
   ],
   "source": [
    "isiterable([1,2,3,4])"
   ]
  },
  {
   "cell_type": "code",
   "execution_count": 36,
   "id": "eecad7ec-7e07-4b35-83c4-a91f0c5edb16",
   "metadata": {},
   "outputs": [
    {
     "data": {
      "text/plain": [
       "False"
      ]
     },
     "execution_count": 36,
     "metadata": {},
     "output_type": "execute_result"
    }
   ],
   "source": [
    "isiterable(5)"
   ]
  },
  {
   "cell_type": "markdown",
   "id": "21627105-b0b7-4c9a-9b3b-45f6264d7003",
   "metadata": {},
   "source": [
    "当编写接受多种类型输入的函数时，可以使用 isiterable 验证参数是否可迭代，如果不可迭代转为 list 类型"
   ]
  },
  {
   "cell_type": "markdown",
   "id": "a57f51ca-1878-4c4b-b39b-26f8d59469d5",
   "metadata": {},
   "source": [
    "```\n",
    "if not isinstance(x,list) and isiterable(x):\n",
    "    x = list(x)\n",
    "```"
   ]
  },
  {
   "cell_type": "markdown",
   "id": "6e46c589-1304-452b-80b4-a5ac2e786b73",
   "metadata": {},
   "source": [
    "#### 2.3.1.9 导入"
   ]
  },
  {
   "cell_type": "markdown",
   "id": "8feb095a-4d15-4ecb-bddf-8e5c42fb4ef0",
   "metadata": {},
   "source": [
    "python 中模块就是 以 .py 为后缀名并包含 python 代码的文件；"
   ]
  },
  {
   "cell_type": "code",
   "execution_count": 39,
   "id": "63d8c76e-dcc2-4687-9e4a-6ba5b88e2cac",
   "metadata": {},
   "outputs": [],
   "source": [
    "# some_module.py\n",
    "PI = 3.14159\n",
    "\n",
    "def f(x):\n",
    "    return x + 2\n",
    "\n",
    "def g(a,b):\n",
    "    return a + b"
   ]
  },
  {
   "cell_type": "markdown",
   "id": "00efbeb6-d658-4146-8453-b3e7569c9ea9",
   "metadata": {},
   "source": [
    "相同路径下的另一个文件中引入 some_module.py 模块"
   ]
  },
  {
   "cell_type": "code",
   "execution_count": 43,
   "id": "e2782b30-26df-4473-9042-2193b9404b9b",
   "metadata": {},
   "outputs": [
    {
     "data": {
      "text/plain": [
       "(7, 3.14159)"
      ]
     },
     "execution_count": 43,
     "metadata": {},
     "output_type": "execute_result"
    }
   ],
   "source": [
    "import some_module\n",
    "result = some_module.f(5)\n",
    "pi = some_module.PI\n",
    "(result,pi)"
   ]
  },
  {
   "cell_type": "markdown",
   "id": "80d772a3-3188-4991-85b7-9a8e0889e620",
   "metadata": {},
   "source": [
    "或者，可以直接导入模块中函数"
   ]
  },
  {
   "cell_type": "code",
   "execution_count": 44,
   "id": "7493fb5b-c2fa-4412-8385-4cc104e67ce1",
   "metadata": {},
   "outputs": [
    {
     "data": {
      "text/plain": [
       "7"
      ]
     },
     "execution_count": 44,
     "metadata": {},
     "output_type": "execute_result"
    }
   ],
   "source": [
    "from some_module import f,g,PI\n",
    "result = f(5)\n",
    "result"
   ]
  },
  {
   "cell_type": "markdown",
   "id": "ddfc1c87-a1f5-4c12-90c4-3fd6ce0dd1f7",
   "metadata": {},
   "source": [
    "使用 as 关键字对导入的内容进行重命名"
   ]
  },
  {
   "cell_type": "code",
   "execution_count": 46,
   "id": "76206ce4-9adc-4fb5-ae62-c0e1bf5b3ca7",
   "metadata": {},
   "outputs": [
    {
     "data": {
      "text/plain": [
       "(7, 9.14159)"
      ]
     },
     "execution_count": 46,
     "metadata": {},
     "output_type": "execute_result"
    }
   ],
   "source": [
    "import some_module as sm\n",
    "from some_module import g as gs,PI as pi\n",
    "r1 = sm.f(5)\n",
    "r2 = gs(6,pi)\n",
    "(r1,r2)\n"
   ]
  },
  {
   "cell_type": "markdown",
   "id": "f3062acb-86ff-4a85-b1f9-c3c6a30b6f83",
   "metadata": {},
   "source": [
    "#### 2.4.1.10 二元运算符和比较运算符"
   ]
  },
  {
   "cell_type": "markdown",
   "id": "3173ca87-7b79-48d8-9943-805de0e15275",
   "metadata": {},
   "source": [
    "![](./二元操作符.png)"
   ]
  },
  {
   "cell_type": "markdown",
   "id": "6e185b8f-0843-4475-b3e1-6f4e808ee452",
   "metadata": {},
   "source": [
    "检查两个引用是否指向同一个对象，可以使用 `is`;`is not` 检查两个对象不是指向同一个对象；"
   ]
  },
  {
   "cell_type": "code",
   "execution_count": 47,
   "id": "d3d48e2c-a0ba-48ea-8df2-e9b8f5dfb52d",
   "metadata": {},
   "outputs": [],
   "source": [
    "a = [1,2,3]"
   ]
  },
  {
   "cell_type": "code",
   "execution_count": 48,
   "id": "279f7e41-ab93-49c0-8ca7-133f8bff738b",
   "metadata": {},
   "outputs": [],
   "source": [
    "b = a\n",
    "c = list(a)"
   ]
  },
  {
   "cell_type": "code",
   "execution_count": 49,
   "id": "f48964f2-0629-4acc-9c2a-fd993eea446b",
   "metadata": {},
   "outputs": [
    {
     "data": {
      "text/plain": [
       "(True, True)"
      ]
     },
     "execution_count": 49,
     "metadata": {},
     "output_type": "execute_result"
    }
   ],
   "source": [
    "(a is b,a is not c)"
   ]
  },
  {
   "cell_type": "markdown",
   "id": "14a45e96-a671-4304-bed0-73092b7e85a9",
   "metadata": {},
   "source": [
    "`is` 和  `==` 时不同的，前者时判断两个引用是否指向同一个对象；后者则直接判断对象的值是否相等；"
   ]
  },
  {
   "cell_type": "code",
   "execution_count": 51,
   "id": "e862b6b6-b162-40f2-9137-74936e008b33",
   "metadata": {},
   "outputs": [
    {
     "data": {
      "text/plain": [
       "True"
      ]
     },
     "execution_count": 51,
     "metadata": {},
     "output_type": "execute_result"
    }
   ],
   "source": [
    "a == c"
   ]
  },
  {
   "cell_type": "markdown",
   "id": "c4adfa02-b38a-4ebb-8759-71ee8e5d98a8",
   "metadata": {},
   "source": [
    "`is` 和 `is not` 常用来检查一个变量是否时 `None`；因为 `None` 只有一个实例："
   ]
  },
  {
   "cell_type": "code",
   "execution_count": 52,
   "id": "4b15eee9-6dd1-4a3f-bbce-c1571c35016a",
   "metadata": {},
   "outputs": [
    {
     "data": {
      "text/plain": [
       "True"
      ]
     },
     "execution_count": 52,
     "metadata": {},
     "output_type": "execute_result"
    }
   ],
   "source": [
    "a = None\n",
    "a is None"
   ]
  },
  {
   "cell_type": "markdown",
   "id": "6e50b198-6d84-4afc-b69a-c2da51bfb49f",
   "metadata": {},
   "source": [
    "#### 2.3.1.11 可变对象和不可变对象"
   ]
  },
  {
   "cell_type": "markdown",
   "id": "79ea101a-6894-4afc-9595-99e0f7f72109",
   "metadata": {},
   "source": [
    "> 请牢记，你可以修改一个对象不代表你应该那么做。修改行为通常会有副作用。例如，当编写一个函数时，任何副作用都应当显式地在函数的文档或注释中告诉使用者。如果可能的话，我建议使用不可变性，避免副作用，尽管不可变对象中也可能包含可变对象。\n"
   ]
  },
  {
   "cell_type": "markdown",
   "id": "f0ba06c3-a00a-4d1d-ace2-970add3643d4",
   "metadata": {},
   "source": [
    "Python 中的大部分对象，如，列表、字典、Numpy 数组都是可变对象，大多数用户定义的类型（类）也是可变的；可变对象中包含的对象和值是可以被修改的："
   ]
  },
  {
   "cell_type": "code",
   "execution_count": 54,
   "id": "ce0339a6-d12a-4ea8-a9da-04175d68de18",
   "metadata": {},
   "outputs": [],
   "source": [
    "a_list = ['foo',1,[4,5]]"
   ]
  },
  {
   "cell_type": "code",
   "execution_count": 55,
   "id": "30829e4f-b019-480d-83a1-1f6d5dc393e1",
   "metadata": {},
   "outputs": [],
   "source": [
    "a_list[2] = (3,4)"
   ]
  },
  {
   "cell_type": "code",
   "execution_count": 56,
   "id": "93fa1880-b64e-4334-a4e8-37d13d08b55e",
   "metadata": {},
   "outputs": [
    {
     "data": {
      "text/plain": [
       "['foo', 1, (3, 4)]"
      ]
     },
     "execution_count": 56,
     "metadata": {},
     "output_type": "execute_result"
    }
   ],
   "source": [
    "a_list"
   ]
  },
  {
   "cell_type": "markdown",
   "id": "6dd6e028-ecc6-4fe2-bfa4-d6c543e86de2",
   "metadata": {},
   "source": [
    "还有一些对象是不可变的，如字符串、元组："
   ]
  },
  {
   "cell_type": "code",
   "execution_count": 58,
   "id": "4edbcd33-9fe8-40ec-8f7e-4f007e14b9e9",
   "metadata": {},
   "outputs": [],
   "source": [
    "a_tuple= (3,5,(4,5))"
   ]
  },
  {
   "cell_type": "code",
   "execution_count": 59,
   "id": "ab16a377-1f79-4b5f-86a7-88521a62194d",
   "metadata": {},
   "outputs": [
    {
     "ename": "TypeError",
     "evalue": "'tuple' object does not support item assignment",
     "output_type": "error",
     "traceback": [
      "\u001b[1;31m---------------------------------------------------------------------------\u001b[0m",
      "\u001b[1;31mTypeError\u001b[0m                                 Traceback (most recent call last)",
      "Cell \u001b[1;32mIn[59], line 1\u001b[0m\n\u001b[1;32m----> 1\u001b[0m \u001b[43ma_tuple\u001b[49m\u001b[43m[\u001b[49m\u001b[38;5;241;43m1\u001b[39;49m\u001b[43m]\u001b[49m \u001b[38;5;241m=\u001b[39m \u001b[38;5;124m'\u001b[39m\u001b[38;5;124mfour\u001b[39m\u001b[38;5;124m'\u001b[39m\n",
      "\u001b[1;31mTypeError\u001b[0m: 'tuple' object does not support item assignment"
     ]
    }
   ],
   "source": [
    "a_tuple[1] = 'four'"
   ]
  },
  {
   "cell_type": "markdown",
   "id": "762e2277-efea-4c03-ac08-e058cd2c088c",
   "metadata": {},
   "source": [
    "### 2.3.2 标量类型"
   ]
  },
  {
   "cell_type": "markdown",
   "id": "de3772b0-afd0-463d-9d58-2c69f8f6c088",
   "metadata": {},
   "source": [
    "Python 的标准库中拥有一个小的内建类型集合，用来处理数值数据、字符串、布尔值、以及日期和时间；这类的“单值”类型有时被称作“标量类型”"
   ]
  },
  {
   "cell_type": "markdown",
   "id": "fcb976f5-f584-45f4-862e-c7fa86e9cbd5",
   "metadata": {},
   "source": [
    "![](./标准python标量类型.png)"
   ]
  },
  {
   "cell_type": "markdown",
   "id": "10a52600-103d-44d8-a275-e69953de45c1",
   "metadata": {},
   "source": [
    "#### 2.3.2.1 数值类型 "
   ]
  },
  {
   "cell_type": "markdown",
   "id": "1141eba5-132e-4f7b-b83c-d3fdecfa0193",
   "metadata": {},
   "source": [
    "基础的python数字类型就是 int 和 float。int 可以存储任意大小的数字；float 是双精度 64 位数值，可以用科学计数法表示："
   ]
  },
  {
   "cell_type": "code",
   "execution_count": 61,
   "id": "42e7e2cc-4ca3-43c9-a1a1-d06eeeb3e2eb",
   "metadata": {},
   "outputs": [
    {
     "data": {
      "text/plain": [
       "26164453299826084489"
      ]
     },
     "execution_count": 61,
     "metadata": {},
     "output_type": "execute_result"
    }
   ],
   "source": [
    "ival = 1723 \n",
    "ival ** 6 "
   ]
  },
  {
   "cell_type": "code",
   "execution_count": 65,
   "id": "4052f615-78ed-4ddc-8cf4-5a8220c14d49",
   "metadata": {},
   "outputs": [
    {
     "data": {
      "text/plain": [
       "6.78e-05"
      ]
     },
     "execution_count": 65,
     "metadata": {},
     "output_type": "execute_result"
    }
   ],
   "source": [
    "fval = 7.235\n",
    "fval2 = 6.78e-5\n",
    "fval2"
   ]
  },
  {
   "cell_type": "markdown",
   "id": "33401245-7859-4743-8721-17c25e91a3ff",
   "metadata": {},
   "source": [
    "`/` 的结果是浮点数；`//`的结果是整数；"
   ]
  },
  {
   "cell_type": "code",
   "execution_count": 66,
   "id": "e21e9d2e-835e-4818-8ac7-c2ce074cadf1",
   "metadata": {},
   "outputs": [
    {
     "data": {
      "text/plain": [
       "(1.0, 1)"
      ]
     },
     "execution_count": 66,
     "metadata": {},
     "output_type": "execute_result"
    }
   ],
   "source": [
    "(3/3,3//3)"
   ]
  },
  {
   "cell_type": "markdown",
   "id": "abbcdac7-24e9-43d3-a6b6-3812c0a89004",
   "metadata": {},
   "source": [
    "#### 2.3.2.2 字符串 "
   ]
  },
  {
   "cell_type": "markdown",
   "id": "a9c40f68-a7ed-47fd-82af-f38b72f09724",
   "metadata": {},
   "source": [
    "字符串可以是单引号/双引号，也可以是三引号，三引号可以换行；"
   ]
  },
  {
   "cell_type": "code",
   "execution_count": 69,
   "id": "dcaee02b-cd23-45c2-a7ad-426df4ad0f3e",
   "metadata": {},
   "outputs": [
    {
     "data": {
      "text/plain": [
       "('one way of writing a string',\n",
       " 'another way',\n",
       " '\\nThis is a longer string that \\nspans multiple lines\\n')"
      ]
     },
     "execution_count": 69,
     "metadata": {},
     "output_type": "execute_result"
    }
   ],
   "source": [
    "a = 'one way of writing a string'\n",
    "b = 'another way'\n",
    "c = \"\"\"\n",
    "This is a longer string that \n",
    "spans multiple lines\n",
    "\"\"\"\n",
    "(a,b,c)"
   ]
  },
  {
   "cell_type": "markdown",
   "id": "eccd249e-93e5-4027-b47e-3579ba657596",
   "metadata": {},
   "source": [
    "可以使用字符串的 count 方法计算 c 中的回车符："
   ]
  },
  {
   "cell_type": "code",
   "execution_count": 70,
   "id": "90ffde3c-da4c-4062-b559-3fe89d87d545",
   "metadata": {},
   "outputs": [
    {
     "data": {
      "text/plain": [
       "3"
      ]
     },
     "execution_count": 70,
     "metadata": {},
     "output_type": "execute_result"
    }
   ],
   "source": [
    "c.count(\"\\n\")"
   ]
  },
  {
   "cell_type": "markdown",
   "id": "4fe21b31-c88e-49fe-8487-052e8154c082",
   "metadata": {},
   "source": [
    "python 中的字符串是不可变的，你无法修改一个字符串；"
   ]
  },
  {
   "cell_type": "code",
   "execution_count": 71,
   "id": "56475f80-44be-48eb-8606-d4028b318b43",
   "metadata": {},
   "outputs": [
    {
     "ename": "TypeError",
     "evalue": "'str' object does not support item assignment",
     "output_type": "error",
     "traceback": [
      "\u001b[1;31m---------------------------------------------------------------------------\u001b[0m",
      "\u001b[1;31mTypeError\u001b[0m                                 Traceback (most recent call last)",
      "Cell \u001b[1;32mIn[71], line 1\u001b[0m\n\u001b[1;32m----> 1\u001b[0m \u001b[43ma\u001b[49m\u001b[43m[\u001b[49m\u001b[38;5;241;43m1\u001b[39;49m\u001b[43m]\u001b[49m \u001b[38;5;241m=\u001b[39m \u001b[38;5;124m'\u001b[39m\u001b[38;5;124mf\u001b[39m\u001b[38;5;124m'\u001b[39m\n",
      "\u001b[1;31mTypeError\u001b[0m: 'str' object does not support item assignment"
     ]
    }
   ],
   "source": [
    "a[1] = 'f'"
   ]
  },
  {
   "cell_type": "markdown",
   "id": "3a41dcdc-3787-43f7-9246-11dd49a16e83",
   "metadata": {},
   "source": [
    "str() 函数将非字符串对象转为字符串；"
   ]
  },
  {
   "cell_type": "code",
   "execution_count": 75,
   "id": "7c14f20b-6760-49de-995b-7272a1ee8bbb",
   "metadata": {},
   "outputs": [
    {
     "data": {
      "text/plain": [
       "(float, str)"
      ]
     },
     "execution_count": 75,
     "metadata": {},
     "output_type": "execute_result"
    }
   ],
   "source": [
    "a = 5.6\n",
    "s = str(a)\n",
    "(type(a),type(s))"
   ]
  },
  {
   "cell_type": "markdown",
   "id": "335ee123-4fa6-4000-83bb-1b14c0ca7bd5",
   "metadata": {},
   "source": [
    "字符串是 Unicode 字符的序列，因此可以看作是除了列表和袁术外的另一种序列；"
   ]
  },
  {
   "cell_type": "code",
   "execution_count": 78,
   "id": "59d7427f-0b4c-4ddf-8db2-18155952927d",
   "metadata": {},
   "outputs": [
    {
     "data": {
      "text/plain": [
       "['p', 'y', 't', 'h', 'o', 'n']"
      ]
     },
     "execution_count": 78,
     "metadata": {},
     "output_type": "execute_result"
    }
   ],
   "source": [
    "s = 'python'\n",
    "list(s)"
   ]
  },
  {
   "cell_type": "code",
   "execution_count": 79,
   "id": "592d886d-c587-484a-bad8-61497854e854",
   "metadata": {},
   "outputs": [
    {
     "data": {
      "text/plain": [
       "'pyt'"
      ]
     },
     "execution_count": 79,
     "metadata": {},
     "output_type": "execute_result"
    }
   ],
   "source": [
    "s[:3]"
   ]
  },
  {
   "cell_type": "markdown",
   "id": "c8779ca7-0496-4d5e-8dab-45c55b7e6729",
   "metadata": {},
   "source": [
    "反斜杠`\\`是一种转移符号，用来指明特殊符号，如，换行符`\\n`或Unicode字符；如果要在字符串中写反斜杠需要将其转义"
   ]
  },
  {
   "cell_type": "code",
   "execution_count": 83,
   "id": "fe3c8f1e-e1d4-4417-bb2f-0d4cdd7c94f8",
   "metadata": {},
   "outputs": [
    {
     "name": "stdout",
     "output_type": "stream",
     "text": [
      "12\\34\n"
     ]
    }
   ],
   "source": [
    "s = '12\\\\34'\n",
    "print(s)"
   ]
  },
  {
   "cell_type": "markdown",
   "id": "1577deb4-a40b-416a-b122-13dfed6b6b52",
   "metadata": {},
   "source": [
    "如果有一个不含特殊字符，但是含有大量反斜杠的字符串，可以使用原生字符串前缀 `r`，表示字符串中没有转义字符；`r` 是 raw 的简写；"
   ]
  },
  {
   "cell_type": "code",
   "execution_count": 85,
   "id": "cc00267c-f35a-4e4e-9d95-3f7c03177f3e",
   "metadata": {},
   "outputs": [
    {
     "data": {
      "text/plain": [
       "'this \\\\has\\\\no\\\\special\\\\characters'"
      ]
     },
     "execution_count": 85,
     "metadata": {},
     "output_type": "execute_result"
    }
   ],
   "source": [
    "s = r'this\\has\\no\\special\\characters'\n",
    "s"
   ]
  },
  {
   "cell_type": "markdown",
   "id": "3eb65b16-4499-40fc-b121-69d6b6d61243",
   "metadata": {},
   "source": [
    "使用加号`+` 拼接两个字符串；"
   ]
  },
  {
   "cell_type": "code",
   "execution_count": 91,
   "id": "a0f38c91-7b69-4d6d-854f-b0bd6c711984",
   "metadata": {},
   "outputs": [
    {
     "data": {
      "text/plain": [
       "'ab'"
      ]
     },
     "execution_count": 91,
     "metadata": {},
     "output_type": "execute_result"
    }
   ],
   "source": [
    "a = 'a' \n",
    "b = 'b'\n",
    "a + b "
   ]
  },
  {
   "cell_type": "markdown",
   "id": "2ebb4720-abfc-4c8f-98e5-7e2a6b929b45",
   "metadata": {},
   "source": [
    "String 对象有一个 format 方法可以用来格式化字符串；"
   ]
  },
  {
   "cell_type": "code",
   "execution_count": 100,
   "id": "ca099fa6-6ee4-4203-af15-a2257fe16f1a",
   "metadata": {},
   "outputs": [],
   "source": [
    "template = '{0:.2f} {1:s} are worth US${2:d}'"
   ]
  },
  {
   "cell_type": "markdown",
   "id": "3dcd8759-5838-4f6f-8ccd-e418f00f7e5a",
   "metadata": {},
   "source": [
    "{0:.2f} 表示将第一个参数格式化为带两位小数的浮点数。"
   ]
  },
  {
   "cell_type": "markdown",
   "id": "9450db45-109c-4f16-a394-6a2f6c6283d1",
   "metadata": {},
   "source": [
    "{1:s} 表示将第二个参数格式化为字符串。"
   ]
  },
  {
   "cell_type": "markdown",
   "id": "7f1cc614-f87e-42b2-815a-60337872be3c",
   "metadata": {},
   "source": [
    "{2:d} 表示将第三个参数格式化为一个精确的整数。"
   ]
  },
  {
   "cell_type": "code",
   "execution_count": 104,
   "id": "2614e034-b27e-4f00-8284-ed7b4fcad304",
   "metadata": {},
   "outputs": [
    {
     "data": {
      "text/plain": [
       "'88.46 Argentine pesos are worth US$1'"
      ]
     },
     "execution_count": 104,
     "metadata": {},
     "output_type": "execute_result"
    }
   ],
   "source": [
    "template.format(88.46,\"Argentine pesos\",1)"
   ]
  },
  {
   "cell_type": "markdown",
   "id": "1962aab9-63c1-421d-8bbd-0df64ee2af63",
   "metadata": {},
   "source": [
    "python 3.6 引入了 f-strings 的新功能；要创建f字符串，在字符串之前写入 f 字符；在字符串中，将python表达式放在大括号中以将表达式的值替换为格式化的字符串；同样的，也可以在大括号中指定表达式的格式说明符；"
   ]
  },
  {
   "cell_type": "code",
   "execution_count": 107,
   "id": "642f407b-aa70-42d7-84f3-012209d2b5f0",
   "metadata": {},
   "outputs": [
    {
     "data": {
      "text/plain": [
       "'10 Pesos is worth US$0.11'"
      ]
     },
     "execution_count": 107,
     "metadata": {},
     "output_type": "execute_result"
    }
   ],
   "source": [
    "amount= 10\n",
    "rate = 88.46\n",
    "currency = \"Pesos\"\n",
    "\n",
    "result = f\"{amount} {currency} is worth US${amount/rate :.2f}\"\n",
    "result"
   ]
  },
  {
   "cell_type": "markdown",
   "id": "c555c33e-bdb3-4010-ad2b-c25b8f92ebe2",
   "metadata": {},
   "source": [
    "要了解更多信息，请参阅[official Pyhton documentation](https://docs.python.org/3/library/string.html)"
   ]
  },
  {
   "cell_type": "markdown",
   "id": "a603e1d4-390f-4b9e-9eda-107dc447420c",
   "metadata": {},
   "source": [
    "#### 2.3.2.3 bytes和Unicode "
   ]
  },
  {
   "cell_type": "markdown",
   "id": "3f062ceb-7db8-4e42-aa32-7225f87f3971",
   "metadata": {},
   "source": [
    "现在 Python 中（python3.0及以上），Unicode 编码成为字符串类型的首选，用于更好的兼容ASCII和非ASCII。在 Python 的早期版本中，字符串完全是`bytes`，没有显示的 `Unicode` 编码。如果你知道字符的编码，就可以将其转为 Unicode："
   ]
  },
  {
   "cell_type": "code",
   "execution_count": 109,
   "id": "057aa80a-4ad0-42e3-90ad-7db604046ffc",
   "metadata": {},
   "outputs": [],
   "source": [
    "val = \"español\""
   ]
  },
  {
   "cell_type": "code",
   "execution_count": 110,
   "id": "507a7a8a-60db-4e23-8727-7f859a5433bb",
   "metadata": {},
   "outputs": [
    {
     "data": {
      "text/plain": [
       "'español'"
      ]
     },
     "execution_count": 110,
     "metadata": {},
     "output_type": "execute_result"
    }
   ],
   "source": [
    "val"
   ]
  },
  {
   "cell_type": "markdown",
   "id": "ab4bfff0-8024-4e9f-9b02-e50ba6484e85",
   "metadata": {},
   "source": [
    "使用 encode 方法将这个Unicode 字符串转为 UTF-8 字节："
   ]
  },
  {
   "cell_type": "code",
   "execution_count": 112,
   "id": "5efdef3c-1c53-42d3-806d-62f498be889d",
   "metadata": {},
   "outputs": [
    {
     "data": {
      "text/plain": [
       "b'espa\\xc3\\xb1ol'"
      ]
     },
     "execution_count": 112,
     "metadata": {},
     "output_type": "execute_result"
    }
   ],
   "source": [
    "val_utf8 = val.encode(\"UTF-8\")\n",
    "val_utf8"
   ]
  },
  {
   "cell_type": "markdown",
   "id": "93463bca-7ee6-4175-b6d3-cbb0f6fc3c65",
   "metadata": {},
   "source": [
    "如果你知道一个字节对象的 Unicode 编码，可以使用 decode 方法进行解码："
   ]
  },
  {
   "cell_type": "code",
   "execution_count": 113,
   "id": "81f4abdb-a67f-4143-b0bc-cb37f479aafe",
   "metadata": {},
   "outputs": [
    {
     "data": {
      "text/plain": [
       "'español'"
      ]
     },
     "execution_count": 113,
     "metadata": {},
     "output_type": "execute_result"
    }
   ],
   "source": [
    "val_utf8.decode(\"UTF-8\")"
   ]
  },
  {
   "cell_type": "markdown",
   "id": "61c1b510-048f-4efd-b712-44dee7e2b7d9",
   "metadata": {},
   "source": [
    "在文件的上文中，最常遇到的就是 `bytes`对象，这里不需要将字节对象转为 Unicode 字符串；"
   ]
  },
  {
   "cell_type": "markdown",
   "id": "87dca0fe-f4bb-471b-be83-7945008ad6cf",
   "metadata": {},
   "source": [
    "#### 2.3.2.4 布尔值"
   ]
  },
  {
   "cell_type": "markdown",
   "id": "57273e05-d2b1-430d-a43d-b089d974b4c4",
   "metadata": {},
   "source": [
    "Python 中的布尔值：True 和 False；可以与逻辑运算符合用；"
   ]
  },
  {
   "cell_type": "code",
   "execution_count": 117,
   "id": "dc7eca60-7f59-45c1-a8ac-11afac13ef0c",
   "metadata": {},
   "outputs": [
    {
     "data": {
      "text/plain": [
       "False"
      ]
     },
     "execution_count": 117,
     "metadata": {},
     "output_type": "execute_result"
    }
   ],
   "source": [
    "True and False"
   ]
  },
  {
   "cell_type": "code",
   "execution_count": 118,
   "id": "658e0dfc-988c-443e-baf9-9f692530c93e",
   "metadata": {},
   "outputs": [
    {
     "data": {
      "text/plain": [
       "True"
      ]
     },
     "execution_count": 118,
     "metadata": {},
     "output_type": "execute_result"
    }
   ],
   "source": [
    "True or False"
   ]
  },
  {
   "cell_type": "code",
   "execution_count": 119,
   "id": "d7cdafc2-e901-4d06-81e5-3c9978be8300",
   "metadata": {},
   "outputs": [
    {
     "data": {
      "text/plain": [
       "False"
      ]
     },
     "execution_count": 119,
     "metadata": {},
     "output_type": "execute_result"
    }
   ],
   "source": [
    "not True"
   ]
  },
  {
   "cell_type": "code",
   "execution_count": 120,
   "id": "033d3ce1-adc1-465a-87f3-220942b8711e",
   "metadata": {},
   "outputs": [
    {
     "data": {
      "text/plain": [
       "True"
      ]
     },
     "execution_count": 120,
     "metadata": {},
     "output_type": "execute_result"
    }
   ],
   "source": [
    "not False"
   ]
  },
  {
   "cell_type": "markdown",
   "id": "62b12f3c-adca-4ae6-a460-c93d2bea8e7c",
   "metadata": {},
   "source": [
    "#### 2.3.2.5 类型转换"
   ]
  },
  {
   "cell_type": "markdown",
   "id": "49c89dcf-1e21-45d3-be04-d4b6ae6bde37",
   "metadata": {},
   "source": [
    "str、bool、int和float 既是数据类型，同时也是可以将其他数据类型转为这些类型的函数；"
   ]
  },
  {
   "cell_type": "code",
   "execution_count": 122,
   "id": "3c6cc5bd-d2a8-428d-a334-c9fdde5d2a28",
   "metadata": {},
   "outputs": [],
   "source": [
    "s = '3.14159'"
   ]
  },
  {
   "cell_type": "code",
   "execution_count": 123,
   "id": "24c490eb-5189-4e89-8e9c-8c1c7b210cfa",
   "metadata": {},
   "outputs": [],
   "source": [
    "fval = float(s)"
   ]
  },
  {
   "cell_type": "code",
   "execution_count": 124,
   "id": "852c2e61-dc15-4849-9c8e-2d639aa8f2f4",
   "metadata": {},
   "outputs": [
    {
     "data": {
      "text/plain": [
       "float"
      ]
     },
     "execution_count": 124,
     "metadata": {},
     "output_type": "execute_result"
    }
   ],
   "source": [
    "type(fval)"
   ]
  },
  {
   "cell_type": "code",
   "execution_count": 125,
   "id": "6e466216-528f-458a-b70c-3cc8608e98a6",
   "metadata": {},
   "outputs": [
    {
     "data": {
      "text/plain": [
       "3"
      ]
     },
     "execution_count": 125,
     "metadata": {},
     "output_type": "execute_result"
    }
   ],
   "source": [
    "int(fval)"
   ]
  },
  {
   "cell_type": "code",
   "execution_count": 126,
   "id": "9823af6a-3275-4a01-8927-52e3e77cc0cc",
   "metadata": {},
   "outputs": [
    {
     "data": {
      "text/plain": [
       "True"
      ]
     },
     "execution_count": 126,
     "metadata": {},
     "output_type": "execute_result"
    }
   ],
   "source": [
    "bool(fval)"
   ]
  },
  {
   "cell_type": "code",
   "execution_count": 127,
   "id": "e293fa0e-6430-48f5-9b0f-155631d4df59",
   "metadata": {},
   "outputs": [
    {
     "data": {
      "text/plain": [
       "False"
      ]
     },
     "execution_count": 127,
     "metadata": {},
     "output_type": "execute_result"
    }
   ],
   "source": [
    "bool(0)"
   ]
  },
  {
   "cell_type": "markdown",
   "id": "7614b963-8bc7-441e-8ab4-aa9f9b7fcc1d",
   "metadata": {},
   "source": [
    "#### 2.3.2.6 None"
   ]
  },
  {
   "cell_type": "markdown",
   "id": "2446f5d7-749c-45c3-8d31-9ba3891b7f5f",
   "metadata": {},
   "source": [
    "None 是 Python 的null类型。如果一个函数没有显示的返回值，则会隐式地返回 None；"
   ]
  },
  {
   "cell_type": "markdown",
   "id": "9ab8e785-bb50-4689-b898-cd07677735ab",
   "metadata": {},
   "source": [
    "None 还可以作为函数参数的默认值；"
   ]
  },
  {
   "cell_type": "code",
   "execution_count": 130,
   "id": "59c4d78a-6c3f-4b6e-81b0-8160239f304d",
   "metadata": {},
   "outputs": [],
   "source": [
    "def add_and_maybe_multiply(a,b,c=None):\n",
    "    result = a + b\n",
    "    if c is not None:\n",
    "        result = result * c\n",
    "    return result"
   ]
  },
  {
   "cell_type": "markdown",
   "id": "38be5ef8-74c9-4a7c-a1f4-6f434b91503e",
   "metadata": {},
   "source": [
    "从技术角度来说，None 不仅是一个关键字，还是 NoneType 类型的唯一实例；"
   ]
  },
  {
   "cell_type": "code",
   "execution_count": 129,
   "id": "3490e3a1-dcd7-4da1-a341-b60d63351c0f",
   "metadata": {},
   "outputs": [
    {
     "data": {
      "text/plain": [
       "NoneType"
      ]
     },
     "execution_count": 129,
     "metadata": {},
     "output_type": "execute_result"
    }
   ],
   "source": [
    "type(None)"
   ]
  },
  {
   "cell_type": "markdown",
   "id": "25c1439c-275e-4041-b45c-2bf3a776aafd",
   "metadata": {},
   "source": [
    "#### 2.3.2.7 日期和时间"
   ]
  },
  {
   "cell_type": "markdown",
   "id": "0597d9b5-7ab8-4489-a24d-640fd5f311dd",
   "metadata": {},
   "source": [
    "Python 内建的 datetime 模块，提供了 datetime、date和time类型；"
   ]
  },
  {
   "cell_type": "code",
   "execution_count": 131,
   "id": "ff7543fd-af9b-41e6-b966-7de5bd140953",
   "metadata": {},
   "outputs": [],
   "source": [
    "from datetime import datetime,date,time"
   ]
  },
  {
   "cell_type": "code",
   "execution_count": 132,
   "id": "95fb332f-86bd-42fb-94a4-40f65c0de1eb",
   "metadata": {},
   "outputs": [],
   "source": [
    "dt = datetime(2011,10,29,20,30,21)"
   ]
  },
  {
   "cell_type": "code",
   "execution_count": 133,
   "id": "c60f13b4-479d-4d2b-8375-90f88672b0f2",
   "metadata": {},
   "outputs": [
    {
     "data": {
      "text/plain": [
       "29"
      ]
     },
     "execution_count": 133,
     "metadata": {},
     "output_type": "execute_result"
    }
   ],
   "source": [
    "dt.day"
   ]
  },
  {
   "cell_type": "code",
   "execution_count": 134,
   "id": "cf443227-c42e-4b3f-bf5d-846c2eef823e",
   "metadata": {},
   "outputs": [
    {
     "data": {
      "text/plain": [
       "30"
      ]
     },
     "execution_count": 134,
     "metadata": {},
     "output_type": "execute_result"
    }
   ],
   "source": [
    "dt.minute"
   ]
  },
  {
   "cell_type": "markdown",
   "id": "05d8d6ce-b049-45c3-8fa0-ee906c00f2ef",
   "metadata": {},
   "source": [
    "对于 datetime 对象，可以使用 `date` 和 `time` 方法获取它的date和time对象；"
   ]
  },
  {
   "cell_type": "code",
   "execution_count": 136,
   "id": "72f6b3a0-8de5-45dd-827c-d5007278091d",
   "metadata": {},
   "outputs": [
    {
     "data": {
      "text/plain": [
       "datetime.date(2011, 10, 29)"
      ]
     },
     "execution_count": 136,
     "metadata": {},
     "output_type": "execute_result"
    }
   ],
   "source": [
    "dt.date()"
   ]
  },
  {
   "cell_type": "code",
   "execution_count": 137,
   "id": "d1a8f192-6324-4e41-beaf-224d79635432",
   "metadata": {},
   "outputs": [
    {
     "data": {
      "text/plain": [
       "datetime.time(20, 30, 21)"
      ]
     },
     "execution_count": 137,
     "metadata": {},
     "output_type": "execute_result"
    }
   ],
   "source": [
    "dt.time()"
   ]
  },
  {
   "cell_type": "markdown",
   "id": "a08e26c5-6b4d-428a-b9e4-2ce48f2e9c16",
   "metadata": {},
   "source": [
    "`strftime` 方法将 datetime 转为字符串"
   ]
  },
  {
   "cell_type": "code",
   "execution_count": 138,
   "id": "0e1ecae3-8a0c-45c4-82e8-080ec16a4a44",
   "metadata": {},
   "outputs": [
    {
     "data": {
      "text/plain": [
       "'10/29/2011 20:30'"
      ]
     },
     "execution_count": 138,
     "metadata": {},
     "output_type": "execute_result"
    }
   ],
   "source": [
    "dt.strftime('%m/%d/%Y %H:%M')"
   ]
  },
  {
   "cell_type": "markdown",
   "id": "530c042d-40f6-4aea-a03c-654fa4be5dfc",
   "metadata": {},
   "source": [
    "`strptime` 方法将字符串转为 datetime"
   ]
  },
  {
   "cell_type": "code",
   "execution_count": 141,
   "id": "27fd7889-a878-4c5f-9a77-4dbefa5a56c1",
   "metadata": {},
   "outputs": [
    {
     "data": {
      "text/plain": [
       "datetime.datetime(2019, 10, 31, 0, 0)"
      ]
     },
     "execution_count": 141,
     "metadata": {},
     "output_type": "execute_result"
    }
   ],
   "source": [
    "datetime.strptime('20191031','%Y%m%d')"
   ]
  },
  {
   "cell_type": "markdown",
   "id": "a1c6aba7-cf1d-40c3-ac64-3a21e3bd8d0c",
   "metadata": {},
   "source": [
    "将 datetime 时间序列中的分钟、秒替换为0·"
   ]
  },
  {
   "cell_type": "code",
   "execution_count": 142,
   "id": "6b77b408-66a7-41c4-898b-b01b78721f32",
   "metadata": {},
   "outputs": [
    {
     "data": {
      "text/plain": [
       "datetime.datetime(2011, 10, 29, 20, 0)"
      ]
     },
     "execution_count": 142,
     "metadata": {},
     "output_type": "execute_result"
    }
   ],
   "source": [
    "dt.replace(minute=0,second=0)"
   ]
  },
  {
   "cell_type": "markdown",
   "id": "5e461cf8-abc1-43a3-9f99-2dc5d39ec221",
   "metadata": {},
   "source": [
    "由于 datetime.datetime 是不可变对象，以上方法都是产生一个新的对象；"
   ]
  },
  {
   "cell_type": "markdown",
   "id": "c5461a9e-0bf1-4fe6-bb49-7019f08cdf70",
   "metadata": {},
   "source": [
    "两个不同的datetime 对象相减会产生一个 datetime.timedelta 类型的对象"
   ]
  },
  {
   "cell_type": "code",
   "execution_count": 144,
   "id": "e25ec576-751b-4722-9268-5794a8360f5a",
   "metadata": {},
   "outputs": [],
   "source": [
    "dt2 = datetime(2011,11,15,22,30)"
   ]
  },
  {
   "cell_type": "code",
   "execution_count": 145,
   "id": "edda519d-9a8b-4d54-954b-dd39d9e4d265",
   "metadata": {},
   "outputs": [
    {
     "data": {
      "text/plain": [
       "datetime.datetime(2011, 10, 29, 20, 30, 21)"
      ]
     },
     "execution_count": 145,
     "metadata": {},
     "output_type": "execute_result"
    }
   ],
   "source": [
    "dt"
   ]
  },
  {
   "cell_type": "code",
   "execution_count": 147,
   "id": "34c2f4c7-8d21-47bf-ba1f-b635848080c9",
   "metadata": {},
   "outputs": [],
   "source": [
    "delta= dt2 - dt"
   ]
  },
  {
   "cell_type": "code",
   "execution_count": 148,
   "id": "306e16b3-c995-4916-b21f-4ba21905d860",
   "metadata": {},
   "outputs": [
    {
     "data": {
      "text/plain": [
       "datetime.timedelta(days=17, seconds=7179)"
      ]
     },
     "execution_count": 148,
     "metadata": {},
     "output_type": "execute_result"
    }
   ],
   "source": [
    "delta"
   ]
  },
  {
   "cell_type": "markdown",
   "id": "63466201-c22e-4f5a-bff0-1bd48613cb34",
   "metadata": {},
   "source": [
    "timedelta 加到一个datetime 上会产生一个新的对象"
   ]
  },
  {
   "cell_type": "code",
   "execution_count": 149,
   "id": "9d86b8b6-a536-47b8-b32c-2aa870011c53",
   "metadata": {},
   "outputs": [
    {
     "data": {
      "text/plain": [
       "datetime.datetime(2011, 10, 29, 20, 30, 21)"
      ]
     },
     "execution_count": 149,
     "metadata": {},
     "output_type": "execute_result"
    }
   ],
   "source": [
    "dt"
   ]
  },
  {
   "cell_type": "code",
   "execution_count": 150,
   "id": "5cef4337-975d-4b6f-a9f1-6fc0f47dddeb",
   "metadata": {},
   "outputs": [
    {
     "data": {
      "text/plain": [
       "datetime.datetime(2011, 11, 15, 22, 30)"
      ]
     },
     "execution_count": 150,
     "metadata": {},
     "output_type": "execute_result"
    }
   ],
   "source": [
    "dt + delta"
   ]
  },
  {
   "cell_type": "markdown",
   "id": "21e0957e-0ef5-4992-9aed-61bc12c3a79d",
   "metadata": {},
   "source": [
    "![](./Datetime格式化详细说明（ISO%20C89兼容）.png)\n",
    "![](./Datetime格式化详细说明（ISO%20C89兼容（续）.png)"
   ]
  },
  {
   "cell_type": "markdown",
   "id": "22f03f41-4590-44bc-a4e3-0a83ed5d0231",
   "metadata": {},
   "source": [
    "### 2.3.3 控制流"
   ]
  },
  {
   "cell_type": "markdown",
   "id": "0385a7a2-d079-45a8-b7d5-c1efbfc96dca",
   "metadata": {},
   "source": [
    "#### 2.3.3.1 if、elif和else"
   ]
  },
  {
   "cell_type": "code",
   "execution_count": 3,
   "id": "d824fa4d-1c5c-4bb9-ae46-1d7744d9e3b5",
   "metadata": {},
   "outputs": [],
   "source": [
    "x = 1\n",
    "if x < 0:\n",
    "    print('It\\'s negative')"
   ]
  },
  {
   "cell_type": "code",
   "execution_count": 6,
   "id": "f69ff898-1b4f-433e-8fa5-2c2b787776c2",
   "metadata": {},
   "outputs": [
    {
     "name": "stdout",
     "output_type": "stream",
     "text": [
      "Positive but smaller than 5\n"
     ]
    }
   ],
   "source": [
    "if x < 0:\n",
    "    print('It\\'s negative')\n",
    "elif x == 0:\n",
    "    print('Equal to zero')\n",
    "elif 0 < x < 5:\n",
    "    print('Positive but smaller than 5')\n",
    "else:\n",
    "    print('Positive and larger than or enqual to 5')"
   ]
  },
  {
   "cell_type": "markdown",
   "id": "127a9164-a77f-43f4-859a-dfba775520a1",
   "metadata": {},
   "source": [
    "`and` 和 `or` 对条件从左往右判断时，会有”短路“现象；"
   ]
  },
  {
   "cell_type": "code",
   "execution_count": 7,
   "id": "4251bcd7-c364-4ca7-9ac5-dc2f421e26e3",
   "metadata": {},
   "outputs": [
    {
     "name": "stdout",
     "output_type": "stream",
     "text": [
      "Make it\n"
     ]
    }
   ],
   "source": [
    "a=5;b=7;c=8;d=4\n",
    "if a < b or c > d:# c >d 不会去判断，因为 a < b 已经为True 了\n",
    "    print('Make it')"
   ]
  },
  {
   "cell_type": "code",
   "execution_count": 8,
   "id": "0c9c6a22-70d0-4620-8eaa-b7c3a54e0889",
   "metadata": {},
   "outputs": [
    {
     "data": {
      "text/plain": [
       "True"
      ]
     },
     "execution_count": 8,
     "metadata": {},
     "output_type": "execute_result"
    }
   ],
   "source": [
    "# 链式比较\n",
    "4 > 3 > 2 > 1"
   ]
  },
  {
   "cell_type": "markdown",
   "id": "3a34e070-a454-4b45-a3ee-b2e27c03d9b0",
   "metadata": {},
   "source": [
    "#### 2.3.3.2 for循环"
   ]
  },
  {
   "cell_type": "markdown",
   "id": "8271c1bb-a003-4d3a-b9bd-a542ec8a96e1",
   "metadata": {},
   "source": [
    "语法\n",
    "```\n",
    "for value in collection:\n",
    "    # 用值做些什么\n",
    "```"
   ]
  },
  {
   "cell_type": "markdown",
   "id": "e516dff8-6272-4e81-9534-5cef0b7b98ff",
   "metadata": {},
   "source": [
    "`continue`,`break`,拆包"
   ]
  },
  {
   "cell_type": "code",
   "execution_count": 9,
   "id": "7206668e-8855-4d69-a372-80c345093d05",
   "metadata": {},
   "outputs": [
    {
     "data": {
      "text/plain": [
       "12"
      ]
     },
     "execution_count": 9,
     "metadata": {},
     "output_type": "execute_result"
    }
   ],
   "source": [
    "# continue 跳过本次循环进入下一次循环\n",
    "seq = [1,2,None,4,None, 5]\n",
    "total = 0\n",
    "for v in seq:\n",
    "    if v is None:\n",
    "        continue\n",
    "    total += v\n",
    "total"
   ]
  },
  {
   "cell_type": "code",
   "execution_count": 11,
   "id": "8af193c8-73d5-4046-a552-fc5d095bb9c0",
   "metadata": {},
   "outputs": [],
   "source": [
    "# break 结束一个 for 循环\n",
    "seq = [1,2,3,4,5,6,7,8]\n",
    "total = 0\n",
    "for v in seq:\n",
    "    if v == 5:\n",
    "        break\n",
    "    total += v"
   ]
  },
  {
   "cell_type": "code",
   "execution_count": 16,
   "id": "1fa1725a-7fef-4e88-9003-9ec9dcf9d0b0",
   "metadata": {},
   "outputs": [
    {
     "name": "stdout",
     "output_type": "stream",
     "text": [
      "(0, 0)\n",
      "(1, 0)\n",
      "(1, 1)\n",
      "(2, 0)\n",
      "(2, 1)\n",
      "(2, 2)\n",
      "(3, 0)\n",
      "(3, 1)\n",
      "(3, 2)\n",
      "(3, 3)\n"
     ]
    }
   ],
   "source": [
    "# break 只结束内层 for 循环，外层 for 循环会继续运行；\n",
    "for i in range(4):\n",
    "    for j in range(4):\n",
    "        if j > i:\n",
    "            break\n",
    "        print((i,j))"
   ]
  },
  {
   "cell_type": "code",
   "execution_count": 17,
   "id": "077df245-174f-42c9-a5b2-ed93dd17439a",
   "metadata": {},
   "outputs": [
    {
     "name": "stdout",
     "output_type": "stream",
     "text": [
      "6\n",
      "15\n",
      "24\n"
     ]
    }
   ],
   "source": [
    "# 如果集合或者迭代器的元素时一个序列（元组或者泪飙），可以在 for 循环语句中很方便的地拆包：\n",
    "seq = ((1,2,3),(4,5,6),(7,8,9))\n",
    "for a,b,c in seq:\n",
    "    print(a + b +c )"
   ]
  },
  {
   "cell_type": "markdown",
   "id": "1ce6640b-681b-4fb7-b620-81c0209b21dd",
   "metadata": {},
   "source": [
    "#### 2.3.3.3 while循环"
   ]
  },
  {
   "cell_type": "markdown",
   "id": "365b77a3-52f8-46a7-9913-96a38c24f9a7",
   "metadata": {},
   "source": [
    "不符合 `while` 条件就跳出循环；"
   ]
  },
  {
   "cell_type": "code",
   "execution_count": 18,
   "id": "e0f301d3-a13f-48a5-9e82-c67bb40f0637",
   "metadata": {},
   "outputs": [
    {
     "data": {
      "text/plain": [
       "504"
      ]
     },
     "execution_count": 18,
     "metadata": {},
     "output_type": "execute_result"
    }
   ],
   "source": [
    "x = 256\n",
    "total = 0\n",
    "while x > 0:\n",
    "    if total > 500:\n",
    "        break\n",
    "    total += x\n",
    "    x = x // 2\n",
    "total"
   ]
  },
  {
   "cell_type": "markdown",
   "id": "c2939a20-66c6-4c8b-862e-31e9f0980388",
   "metadata": {},
   "source": [
    "#### 2.3.3.4 pass"
   ]
  },
  {
   "cell_type": "markdown",
   "id": "90fe7771-67de-4f11-a9c0-592880d8984d",
   "metadata": {},
   "source": [
    "表示不执行任何操作（作为还没有实现代码的占位符）"
   ]
  },
  {
   "cell_type": "code",
   "execution_count": 19,
   "id": "63d1aec8-bb62-4ebe-8f95-345c9d851978",
   "metadata": {},
   "outputs": [
    {
     "name": "stdout",
     "output_type": "stream",
     "text": [
      "positive\n"
     ]
    }
   ],
   "source": [
    "if x < 0:\n",
    "    print('negative!')\n",
    "elif x ==0:\n",
    "    pass\n",
    "else:\n",
    "    print('positive')"
   ]
  },
  {
   "cell_type": "markdown",
   "id": "00ca6011-3b5a-4389-9094-5bd50ce3d866",
   "metadata": {},
   "source": [
    "#### 2.3.3.5 range "
   ]
  },
  {
   "cell_type": "markdown",
   "id": "4b45a223-fd17-4352-993d-f01f444dd89e",
   "metadata": {},
   "source": [
    "`range`类实现了 __iter__ 方法，实际上就是一个迭代器；可以指定起始\n",
    "结尾、步长来生成一个序列；序列是包含起始不好含结尾的；"
   ]
  },
  {
   "cell_type": "code",
   "execution_count": 23,
   "id": "4bc6350e-1b8d-45aa-b6cd-b33034dbc5e5",
   "metadata": {},
   "outputs": [
    {
     "data": {
      "text/plain": [
       "(range(0, 10), range, <range_iterator at 0x1bfb309eeb0>)"
      ]
     },
     "execution_count": 23,
     "metadata": {},
     "output_type": "execute_result"
    }
   ],
   "source": [
    "range(10)"
   ]
  },
  {
   "cell_type": "code",
   "execution_count": 24,
   "id": "dd00cd17-913b-4272-b512-ba0bf4fe7dd4",
   "metadata": {},
   "outputs": [
    {
     "data": {
      "text/plain": [
       "range(0, 10, 2)"
      ]
     },
     "execution_count": 24,
     "metadata": {},
     "output_type": "execute_result"
    }
   ],
   "source": [
    "range(0,10,2)"
   ]
  },
  {
   "cell_type": "code",
   "execution_count": 27,
   "id": "00ebeabd-32d5-4471-888b-530e9dbc14b6",
   "metadata": {},
   "outputs": [
    {
     "data": {
      "text/plain": [
       "[0, 2, 4, 6, 8]"
      ]
     },
     "execution_count": 27,
     "metadata": {},
     "output_type": "execute_result"
    }
   ],
   "source": [
    "# 通过 list 将 range 产生的序列进行存储\n",
    "list(range(0,10,2))"
   ]
  },
  {
   "cell_type": "code",
   "execution_count": 29,
   "id": "624c94b4-e5e0-426f-9ecd-c7045a4ef442",
   "metadata": {},
   "outputs": [
    {
     "data": {
      "text/plain": [
       "2333316668"
      ]
     },
     "execution_count": 29,
     "metadata": {},
     "output_type": "execute_result"
    }
   ],
   "source": [
    "sum = 0\n",
    "for i in range(100000):\n",
    "    if i % 3 == 0 or i % 5 == 0:\n",
    "        sum += i\n",
    "sum"
   ]
  },
  {
   "cell_type": "markdown",
   "id": "2de09dc6-80b3-441c-8833-60747393fd64",
   "metadata": {},
   "source": [
    "#### 2.3.3.6 三元表达式"
   ]
  },
  {
   "cell_type": "markdown",
   "id": "9c958be3-0321-4d29-9241-fa284946104c",
   "metadata": {},
   "source": [
    "```\n",
    "value = true-expr if condition else fase-expr\n",
    "```"
   ]
  },
  {
   "cell_type": "code",
   "execution_count": 30,
   "id": "f9070b68-06bf-4e87-b2e0-4c2faca66cf5",
   "metadata": {},
   "outputs": [
    {
     "data": {
      "text/plain": [
       "'Non-negative'"
      ]
     },
     "execution_count": 30,
     "metadata": {},
     "output_type": "execute_result"
    }
   ],
   "source": [
    "x = 5\n",
    "'Non-negative' if x >= 0 else 'Negative'"
   ]
  }
 ],
 "metadata": {
  "kernelspec": {
   "display_name": "Python 3 (ipykernel)",
   "language": "python",
   "name": "python3"
  },
  "language_info": {
   "codemirror_mode": {
    "name": "ipython",
    "version": 3
   },
   "file_extension": ".py",
   "mimetype": "text/x-python",
   "name": "python",
   "nbconvert_exporter": "python",
   "pygments_lexer": "ipython3",
   "version": "3.10.9"
  }
 },
 "nbformat": 4,
 "nbformat_minor": 5
}
