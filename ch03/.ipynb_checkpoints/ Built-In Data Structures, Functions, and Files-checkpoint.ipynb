{
 "cells": [
  {
   "cell_type": "markdown",
   "id": "7be20ba1-a258-486d-99c5-db256b6b37f1",
   "metadata": {},
   "source": [
    "## 3.1 数据结构和序列"
   ]
  },
  {
   "cell_type": "markdown",
   "id": "94563c0b-6934-4965-b398-918f30ee4608",
   "metadata": {},
   "source": [
    "元组、列表、字典、集合是一些最常用的序列类型；"
   ]
  },
  {
   "cell_type": "markdown",
   "id": "19782008-61d7-4732-837d-e8252a0f5cf2",
   "metadata": {},
   "source": [
    "### 3.1.1 元组"
   ]
  },
  {
   "cell_type": "markdown",
   "id": "f958e9a4-b7e1-4ac6-920a-db39872c1a8e",
   "metadata": {},
   "source": [
    "元组是一个长度固定、不可变的有序（排列的顺序）序列；创建元组的方法是在圆括号中使用逗号分隔值；在许多情况下，圆括号是可以省略的；"
   ]
  },
  {
   "cell_type": "code",
   "execution_count": 1,
   "id": "e83d0585-906e-4216-be22-5216971f6f07",
   "metadata": {},
   "outputs": [],
   "source": [
    "# empyt tuple\n",
    "empty_tuple = ()\n",
    "empty_tuple = tuple()"
   ]
  },
  {
   "cell_type": "code",
   "execution_count": 2,
   "id": "fd6cfd73-8fd4-41a8-98f5-bde1105178df",
   "metadata": {},
   "outputs": [],
   "source": [
    "# one element tuple contains one element and a comma\n",
    "one_element_tuple = (1,)"
   ]
  },
  {
   "cell_type": "code",
   "execution_count": 3,
   "id": "c6c7415d-db5a-4694-ba3b-18760d159c29",
   "metadata": {},
   "outputs": [
    {
     "data": {
      "text/plain": [
       "(4, 5, 6)"
      ]
     },
     "execution_count": 3,
     "metadata": {},
     "output_type": "execute_result"
    }
   ],
   "source": [
    "tup = (4,5,6)\n",
    "tup"
   ]
  },
  {
   "cell_type": "code",
   "execution_count": 5,
   "id": "7d98e96f-2711-4eef-b4f2-12cf905644b7",
   "metadata": {},
   "outputs": [],
   "source": [
    "# omit parentheses\n",
    "tup = 4,5,6"
   ]
  },
  {
   "cell_type": "markdown",
   "id": "b9a1ef31-e1b8-4c18-8c03-83386533119b",
   "metadata": {},
   "source": [
    "使用 `tuple` 对象将任何序列或者迭代器转换为元组"
   ]
  },
  {
   "cell_type": "code",
   "execution_count": 7,
   "id": "919c4165-7acb-406b-a95b-8d2a6df95639",
   "metadata": {},
   "outputs": [
    {
     "data": {
      "text/plain": [
       "(4, 5, 6)"
      ]
     },
     "execution_count": 7,
     "metadata": {},
     "output_type": "execute_result"
    }
   ],
   "source": [
    "tuple([4,5,6])"
   ]
  },
  {
   "cell_type": "code",
   "execution_count": 8,
   "id": "572f944c-b27c-4b3e-ad18-d9d979b52a35",
   "metadata": {},
   "outputs": [
    {
     "data": {
      "text/plain": [
       "('s', 't', 'r', 'i', 'n', 'g')"
      ]
     },
     "execution_count": 8,
     "metadata": {},
     "output_type": "execute_result"
    }
   ],
   "source": [
    "tuple('string')"
   ]
  },
  {
   "cell_type": "markdown",
   "id": "5c34a993-ce50-4df8-8729-ae552ba0106e",
   "metadata": {},
   "source": [
    "元组使用方括号`[]`访问元素，索引从 `0` 开始；"
   ]
  },
  {
   "cell_type": "code",
   "execution_count": 9,
   "id": "6913e0e0-b571-4721-a2b8-8f542dbd070c",
   "metadata": {},
   "outputs": [
    {
     "data": {
      "text/plain": [
       "4"
      ]
     },
     "execution_count": 9,
     "metadata": {},
     "output_type": "execute_result"
    }
   ],
   "source": [
    "tup[0]"
   ]
  },
  {
   "cell_type": "code",
   "execution_count": 12,
   "id": "d8f03822-3f30-4de1-b5f7-8420f38dc01f",
   "metadata": {},
   "outputs": [
    {
     "data": {
      "text/plain": [
       "((1, 2), (4, 5))"
      ]
     },
     "execution_count": 12,
     "metadata": {},
     "output_type": "execute_result"
    }
   ],
   "source": [
    "# 通过更复杂的表达式创建元组，比如，嵌套元组\n",
    "nested_tuple = ((1,2),(4,5))\n",
    "nested_tuple"
   ]
  },
  {
   "cell_type": "code",
   "execution_count": 13,
   "id": "980a02ad-715f-4005-99bc-7c66fcdac69f",
   "metadata": {},
   "outputs": [
    {
     "ename": "SyntaxError",
     "evalue": "invalid syntax (3271696182.py, line 3)",
     "output_type": "error",
     "traceback": [
      "\u001b[1;36m  Cell \u001b[1;32mIn[13], line 3\u001b[1;36m\u001b[0m\n\u001b[1;33m    tup[[1] = 3\u001b[0m\n\u001b[1;37m            ^\u001b[0m\n\u001b[1;31mSyntaxError\u001b[0m\u001b[1;31m:\u001b[0m invalid syntax\n"
     ]
    }
   ],
   "source": [
    "# list 是可变的，但是转为元组后就不可变了\n",
    "tup = tuple(['foo',1,True])\n",
    "tup[[1] = 3"
   ]
  },
  {
   "cell_type": "code",
   "execution_count": 14,
   "id": "5b70b8c1-fb1e-4d64-92da-0f167cefa4d5",
   "metadata": {},
   "outputs": [
    {
     "data": {
      "text/plain": [
       "('foo', [1, 2, 3], 1)"
      ]
     },
     "execution_count": 14,
     "metadata": {},
     "output_type": "execute_result"
    }
   ],
   "source": [
    "# 元组本身是不可变的，但是元组元素可以是可变的\n",
    "tup = ('foo',[1,2],1)\n",
    "tup[1].append(3)\n",
    "tup"
   ]
  },
  {
   "cell_type": "code",
   "execution_count": 18,
   "id": "b09ad6fc-c7bc-444b-ba7e-d3e02f11b441",
   "metadata": {},
   "outputs": [
    {
     "data": {
      "text/plain": [
       "(4, None, 'foo', 6, 0, 'bar')"
      ]
     },
     "execution_count": 18,
     "metadata": {},
     "output_type": "execute_result"
    }
   ],
   "source": [
    "# 使用 `+` 连接两个元组，组成新元组\n",
    "(4,None,'foo')+(6,0)+('bar',)"
   ]
  },
  {
   "cell_type": "code",
   "execution_count": 19,
   "id": "797e12c4-213b-4b7f-bd92-c2b5c7092de3",
   "metadata": {},
   "outputs": [
    {
     "data": {
      "text/plain": [
       "('foo', 'bar', 'foo', 'bar', 'foo', 'bar', 'foo', 'bar')"
      ]
     },
     "execution_count": 19,
     "metadata": {},
     "output_type": "execute_result"
    }
   ],
   "source": [
    "# 将一个元组乘以一个整数，具有连接多个副本的效果；\n",
    "('foo','bar') * 4\n",
    "#不会复制对象，只会复制其引用"
   ]
  },
  {
   "cell_type": "markdown",
   "id": "911c51d0-5a43-4a90-89e9-c38ecc778c1a",
   "metadata": {},
   "source": [
    "#### 3.1.1.1 元组的拆包"
   ]
  },
  {
   "cell_type": "code",
   "execution_count": 22,
   "id": "4c7a18fb-e49f-421b-9cb2-9df259c98fab",
   "metadata": {},
   "outputs": [
    {
     "name": "stdout",
     "output_type": "stream",
     "text": [
      "4 5 6\n"
     ]
    }
   ],
   "source": [
    "# 将元组的元素分配给变量；\n",
    "tup = (4,5,6)\n",
    "a,b,c = tup\n",
    "print(a,b,c)"
   ]
  },
  {
   "cell_type": "code",
   "execution_count": 23,
   "id": "b26ef888-4f7d-4fa9-9176-db645a91ad76",
   "metadata": {},
   "outputs": [
    {
     "data": {
      "text/plain": [
       "6"
      ]
     },
     "execution_count": 23,
     "metadata": {},
     "output_type": "execute_result"
    }
   ],
   "source": [
    "# 拆包嵌套元组\n",
    "tup = 4,5,(6,7)\n",
    "a,b,(c,d) = tup\n",
    "c"
   ]
  },
  {
   "cell_type": "code",
   "execution_count": 24,
   "id": "ead6dda9-5fc8-416d-8326-81247ae928f6",
   "metadata": {},
   "outputs": [
    {
     "name": "stdout",
     "output_type": "stream",
     "text": [
      "2 1\n"
     ]
    }
   ],
   "source": [
    "# 使用拆包可以方便的交换两个元素\n",
    "# temp = a\n",
    "# a = b\n",
    "# b = temp\n",
    "a,b = 1,2\n",
    "b,a = a,b\n",
    "print(a,b)"
   ]
  },
  {
   "cell_type": "code",
   "execution_count": 25,
   "id": "922f799b-1885-4e8b-8f5a-b91add217cbb",
   "metadata": {},
   "outputs": [
    {
     "name": "stdout",
     "output_type": "stream",
     "text": [
      "a=1,b=2,c=3\n",
      "a=4,b=5,c=6\n",
      "a=7,b=8,c=9\n"
     ]
    }
   ],
   "source": [
    "# 拆包的一个常见用途就是遍历元组的列表或者元组\n",
    "seq = [(1,2,3),(4,5,6),(7,8,9)]\n",
    "for a,b,c in seq:\n",
    "    print(f'a={a},b={b},c={c}')"
   ]
  },
  {
   "cell_type": "code",
   "execution_count": 26,
   "id": "c0ebbd04-c709-4b2d-8ae2-b84de82162e6",
   "metadata": {},
   "outputs": [],
   "source": [
    "# 拆包的另一个常见用途是从函数返回多个值；"
   ]
  },
  {
   "cell_type": "code",
   "execution_count": 27,
   "id": "f2f4da5f-7472-4a56-9bf4-c85b94ef71a8",
   "metadata": {},
   "outputs": [
    {
     "data": {
      "text/plain": [
       "[3, 4, 5]"
      ]
     },
     "execution_count": 27,
     "metadata": {},
     "output_type": "execute_result"
    }
   ],
   "source": [
    "# 使用 *变量名 获取元组中的一部分数据;\n",
    "tup = (1,2,3,4,5)\n",
    "a,b,*rest = tup\n",
    "rest\n",
    "#这样用法也可以在函数签名中捕获任意长度的位置参数列表；"
   ]
  },
  {
   "cell_type": "code",
   "execution_count": 28,
   "id": "1416ad33-0be7-490e-80fc-8024ee04be74",
   "metadata": {},
   "outputs": [
    {
     "data": {
      "text/plain": [
       "1"
      ]
     },
     "execution_count": 28,
     "metadata": {},
     "output_type": "execute_result"
    }
   ],
   "source": [
    "# _ 表示不想要的数据\n",
    "a,b,*_= tup\n",
    "a"
   ]
  },
  {
   "cell_type": "markdown",
   "id": "daa9a107-69b4-4f40-a7e1-0877dfb6b91c",
   "metadata": {},
   "source": [
    "#### 3.1.1.2 元组的方法"
   ]
  },
  {
   "cell_type": "markdown",
   "id": "73e3a015-7b11-473b-94dc-93d641c8d541",
   "metadata": {},
   "source": [
    "由于元组的内容和长度是不可变的，所以实例方法比较少；"
   ]
  },
  {
   "cell_type": "code",
   "execution_count": 29,
   "id": "ab4a4bb7-c94b-493b-bef5-8b73a4b292be",
   "metadata": {},
   "outputs": [
    {
     "data": {
      "text/plain": [
       "(1, 4)"
      ]
     },
     "execution_count": 29,
     "metadata": {},
     "output_type": "execute_result"
    }
   ],
   "source": [
    "# count() 用于计量某个数值在元组中出现的次数\n",
    "tup = (1,2,3,4,5,5,5,5)\n",
    "(tup.count(1),tup.count(5))"
   ]
  },
  {
   "cell_type": "code",
   "execution_count": 31,
   "id": "eabcfbf8-6968-4a72-b222-ca6b4aca38f7",
   "metadata": {},
   "outputs": [
    {
     "data": {
      "text/plain": [
       "4"
      ]
     },
     "execution_count": 31,
     "metadata": {},
     "output_type": "execute_result"
    }
   ],
   "source": [
    "# index() 找到某个元素在元组中的最左索引位置\n",
    "tup = (1,2,3,4,5,5,5,5)\n",
    "tup.index(5)"
   ]
  }
 ],
 "metadata": {
  "kernelspec": {
   "display_name": "Python 3 (ipykernel)",
   "language": "python",
   "name": "python3"
  },
  "language_info": {
   "codemirror_mode": {
    "name": "ipython",
    "version": 3
   },
   "file_extension": ".py",
   "mimetype": "text/x-python",
   "name": "python",
   "nbconvert_exporter": "python",
   "pygments_lexer": "ipython3",
   "version": "3.10.9"
  }
 },
 "nbformat": 4,
 "nbformat_minor": 5
}
