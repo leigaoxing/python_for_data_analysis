{
 "cells": [
  {
   "cell_type": "markdown",
   "id": "7be20ba1-a258-486d-99c5-db256b6b37f1",
   "metadata": {},
   "source": [
    "## 3.1 数据结构和序列"
   ]
  },
  {
   "cell_type": "markdown",
   "id": "94563c0b-6934-4965-b398-918f30ee4608",
   "metadata": {},
   "source": [
    "元组、列表、字典、集合是一些最常用的序列类型；"
   ]
  },
  {
   "cell_type": "markdown",
   "id": "19782008-61d7-4732-837d-e8252a0f5cf2",
   "metadata": {},
   "source": [
    "### 3.1.1 元组"
   ]
  },
  {
   "cell_type": "markdown",
   "id": "f958e9a4-b7e1-4ac6-920a-db39872c1a8e",
   "metadata": {},
   "source": [
    "元组是一个长度固定、不可变的有序（排列的顺序）序列；创建元组的方法是在圆括号中使用逗号分隔值；在许多情况下，圆括号是可以省略的；"
   ]
  },
  {
   "cell_type": "code",
   "execution_count": 1,
   "id": "e83d0585-906e-4216-be22-5216971f6f07",
   "metadata": {},
   "outputs": [],
   "source": [
    "# empyt tuple\n",
    "empty_tuple = ()\n",
    "empty_tuple = tuple()"
   ]
  },
  {
   "cell_type": "code",
   "execution_count": 2,
   "id": "fd6cfd73-8fd4-41a8-98f5-bde1105178df",
   "metadata": {},
   "outputs": [],
   "source": [
    "# one element tuple contains one element and a comma\n",
    "one_element_tuple = (1,)"
   ]
  },
  {
   "cell_type": "code",
   "execution_count": 3,
   "id": "c6c7415d-db5a-4694-ba3b-18760d159c29",
   "metadata": {},
   "outputs": [
    {
     "data": {
      "text/plain": [
       "(4, 5, 6)"
      ]
     },
     "execution_count": 3,
     "metadata": {},
     "output_type": "execute_result"
    }
   ],
   "source": [
    "tup = (4,5,6)\n",
    "tup"
   ]
  },
  {
   "cell_type": "code",
   "execution_count": 5,
   "id": "7d98e96f-2711-4eef-b4f2-12cf905644b7",
   "metadata": {},
   "outputs": [],
   "source": [
    "# omit parentheses\n",
    "tup = 4,5,6"
   ]
  },
  {
   "cell_type": "markdown",
   "id": "b9a1ef31-e1b8-4c18-8c03-83386533119b",
   "metadata": {},
   "source": [
    "使用 `tuple` 对象将任何序列或者迭代器转换为元组"
   ]
  },
  {
   "cell_type": "code",
   "execution_count": 7,
   "id": "919c4165-7acb-406b-a95b-8d2a6df95639",
   "metadata": {},
   "outputs": [
    {
     "data": {
      "text/plain": [
       "(4, 5, 6)"
      ]
     },
     "execution_count": 7,
     "metadata": {},
     "output_type": "execute_result"
    }
   ],
   "source": [
    "tuple([4,5,6])"
   ]
  },
  {
   "cell_type": "code",
   "execution_count": 8,
   "id": "572f944c-b27c-4b3e-ad18-d9d979b52a35",
   "metadata": {},
   "outputs": [
    {
     "data": {
      "text/plain": [
       "('s', 't', 'r', 'i', 'n', 'g')"
      ]
     },
     "execution_count": 8,
     "metadata": {},
     "output_type": "execute_result"
    }
   ],
   "source": [
    "tuple('string')"
   ]
  },
  {
   "cell_type": "markdown",
   "id": "5c34a993-ce50-4df8-8729-ae552ba0106e",
   "metadata": {},
   "source": [
    "元组使用方括号`[]`访问元素，索引从 `0` 开始；"
   ]
  },
  {
   "cell_type": "code",
   "execution_count": 9,
   "id": "6913e0e0-b571-4721-a2b8-8f542dbd070c",
   "metadata": {},
   "outputs": [
    {
     "data": {
      "text/plain": [
       "4"
      ]
     },
     "execution_count": 9,
     "metadata": {},
     "output_type": "execute_result"
    }
   ],
   "source": [
    "tup[0]"
   ]
  },
  {
   "cell_type": "code",
   "execution_count": 12,
   "id": "d8f03822-3f30-4de1-b5f7-8420f38dc01f",
   "metadata": {},
   "outputs": [
    {
     "data": {
      "text/plain": [
       "((1, 2), (4, 5))"
      ]
     },
     "execution_count": 12,
     "metadata": {},
     "output_type": "execute_result"
    }
   ],
   "source": [
    "# 通过更复杂的表达式创建元组，比如，嵌套元组\n",
    "nested_tuple = ((1,2),(4,5))\n",
    "nested_tuple"
   ]
  },
  {
   "cell_type": "code",
   "execution_count": 1,
   "id": "980a02ad-715f-4005-99bc-7c66fcdac69f",
   "metadata": {},
   "outputs": [
    {
     "ename": "TypeError",
     "evalue": "'tuple' object does not support item assignment",
     "output_type": "error",
     "traceback": [
      "\u001b[1;31m---------------------------------------------------------------------------\u001b[0m",
      "\u001b[1;31mTypeError\u001b[0m                                 Traceback (most recent call last)",
      "Cell \u001b[1;32mIn[1], line 3\u001b[0m\n\u001b[0;32m      1\u001b[0m \u001b[39m# list 是可变的，但是转为元组后就不可变了\u001b[39;00m\n\u001b[0;32m      2\u001b[0m tup \u001b[39m=\u001b[39m \u001b[39mtuple\u001b[39m([\u001b[39m'\u001b[39m\u001b[39mfoo\u001b[39m\u001b[39m'\u001b[39m,\u001b[39m1\u001b[39m,\u001b[39mTrue\u001b[39;00m])\n\u001b[1;32m----> 3\u001b[0m tup[\u001b[39m1\u001b[39;49m] \u001b[39m=\u001b[39m \u001b[39m3\u001b[39m\n",
      "\u001b[1;31mTypeError\u001b[0m: 'tuple' object does not support item assignment"
     ]
    }
   ],
   "source": [
    "# list 是可变的，但是转为元组后就不可变了\n",
    "tup = tuple(['foo',1,True])\n",
    "tup[1] = 3"
   ]
  },
  {
   "cell_type": "code",
   "execution_count": 14,
   "id": "5b70b8c1-fb1e-4d64-92da-0f167cefa4d5",
   "metadata": {},
   "outputs": [
    {
     "data": {
      "text/plain": [
       "('foo', [1, 2, 3], 1)"
      ]
     },
     "execution_count": 14,
     "metadata": {},
     "output_type": "execute_result"
    }
   ],
   "source": [
    "# 元组本身是不可变的，但是元组元素可以是可变的\n",
    "tup = ('foo',[1,2],1)\n",
    "tup[1].append(3)\n",
    "tup"
   ]
  },
  {
   "cell_type": "code",
   "execution_count": 18,
   "id": "b09ad6fc-c7bc-444b-ba7e-d3e02f11b441",
   "metadata": {},
   "outputs": [
    {
     "data": {
      "text/plain": [
       "(4, None, 'foo', 6, 0, 'bar')"
      ]
     },
     "execution_count": 18,
     "metadata": {},
     "output_type": "execute_result"
    }
   ],
   "source": [
    "# 使用 `+` 连接两个元组，组成新元组\n",
    "(4,None,'foo')+(6,0)+('bar',)"
   ]
  },
  {
   "cell_type": "code",
   "execution_count": 19,
   "id": "797e12c4-213b-4b7f-bd92-c2b5c7092de3",
   "metadata": {},
   "outputs": [
    {
     "data": {
      "text/plain": [
       "('foo', 'bar', 'foo', 'bar', 'foo', 'bar', 'foo', 'bar')"
      ]
     },
     "execution_count": 19,
     "metadata": {},
     "output_type": "execute_result"
    }
   ],
   "source": [
    "# 将一个元组乘以一个整数，具有连接多个副本的效果；\n",
    "('foo','bar') * 4\n",
    "#不会复制对象，只会复制其引用"
   ]
  },
  {
   "cell_type": "markdown",
   "id": "911c51d0-5a43-4a90-89e9-c38ecc778c1a",
   "metadata": {},
   "source": [
    "#### 3.1.1.1 元组的拆包"
   ]
  },
  {
   "cell_type": "code",
   "execution_count": 22,
   "id": "4c7a18fb-e49f-421b-9cb2-9df259c98fab",
   "metadata": {},
   "outputs": [
    {
     "name": "stdout",
     "output_type": "stream",
     "text": [
      "4 5 6\n"
     ]
    }
   ],
   "source": [
    "# 将元组的元素分配给变量；\n",
    "tup = (4,5,6)\n",
    "a,b,c = tup\n",
    "print(a,b,c)"
   ]
  },
  {
   "cell_type": "code",
   "execution_count": 23,
   "id": "b26ef888-4f7d-4fa9-9176-db645a91ad76",
   "metadata": {},
   "outputs": [
    {
     "data": {
      "text/plain": [
       "6"
      ]
     },
     "execution_count": 23,
     "metadata": {},
     "output_type": "execute_result"
    }
   ],
   "source": [
    "# 拆包嵌套元组\n",
    "tup = 4,5,(6,7)\n",
    "a,b,(c,d) = tup\n",
    "c"
   ]
  },
  {
   "cell_type": "code",
   "execution_count": 24,
   "id": "ead6dda9-5fc8-416d-8326-81247ae928f6",
   "metadata": {},
   "outputs": [
    {
     "name": "stdout",
     "output_type": "stream",
     "text": [
      "2 1\n"
     ]
    }
   ],
   "source": [
    "# 使用拆包可以方便的交换两个元素\n",
    "# temp = a\n",
    "# a = b\n",
    "# b = temp\n",
    "a,b = 1,2\n",
    "b,a = a,b\n",
    "print(a,b)"
   ]
  },
  {
   "cell_type": "code",
   "execution_count": 25,
   "id": "922f799b-1885-4e8b-8f5a-b91add217cbb",
   "metadata": {},
   "outputs": [
    {
     "name": "stdout",
     "output_type": "stream",
     "text": [
      "a=1,b=2,c=3\n",
      "a=4,b=5,c=6\n",
      "a=7,b=8,c=9\n"
     ]
    }
   ],
   "source": [
    "# 拆包的一个常见用途就是遍历元组的列表或者元组\n",
    "seq = [(1,2,3),(4,5,6),(7,8,9)]\n",
    "for a,b,c in seq:\n",
    "    print(f'a={a},b={b},c={c}')"
   ]
  },
  {
   "cell_type": "code",
   "execution_count": 26,
   "id": "c0ebbd04-c709-4b2d-8ae2-b84de82162e6",
   "metadata": {},
   "outputs": [],
   "source": [
    "# 拆包的另一个常见用途是从函数返回多个值；"
   ]
  },
  {
   "cell_type": "code",
   "execution_count": 27,
   "id": "f2f4da5f-7472-4a56-9bf4-c85b94ef71a8",
   "metadata": {},
   "outputs": [
    {
     "data": {
      "text/plain": [
       "[3, 4, 5]"
      ]
     },
     "execution_count": 27,
     "metadata": {},
     "output_type": "execute_result"
    }
   ],
   "source": [
    "# 使用 *变量名 获取元组中的一部分数据;\n",
    "tup = (1,2,3,4,5)\n",
    "a,b,*rest = tup\n",
    "rest\n",
    "#这样用法也可以在函数签名中捕获任意长度的位置参数列表；"
   ]
  },
  {
   "cell_type": "code",
   "execution_count": 28,
   "id": "1416ad33-0be7-490e-80fc-8024ee04be74",
   "metadata": {},
   "outputs": [
    {
     "data": {
      "text/plain": [
       "1"
      ]
     },
     "execution_count": 28,
     "metadata": {},
     "output_type": "execute_result"
    }
   ],
   "source": [
    "# _ 表示不想要的数据\n",
    "a,b,*_= tup\n",
    "a"
   ]
  },
  {
   "cell_type": "markdown",
   "id": "daa9a107-69b4-4f40-a7e1-0877dfb6b91c",
   "metadata": {},
   "source": [
    "#### 3.1.1.2 元组的方法"
   ]
  },
  {
   "cell_type": "markdown",
   "id": "73e3a015-7b11-473b-94dc-93d641c8d541",
   "metadata": {},
   "source": [
    "由于元组的内容和长度是不可变的，所以实例方法比较少；"
   ]
  },
  {
   "cell_type": "code",
   "execution_count": 29,
   "id": "ab4a4bb7-c94b-493b-bef5-8b73a4b292be",
   "metadata": {},
   "outputs": [
    {
     "data": {
      "text/plain": [
       "(1, 4)"
      ]
     },
     "execution_count": 29,
     "metadata": {},
     "output_type": "execute_result"
    }
   ],
   "source": [
    "# count() 用于计量某个数值在元组中出现的次数\n",
    "tup = (1,2,3,4,5,5,5,5)\n",
    "(tup.count(1),tup.count(5))"
   ]
  },
  {
   "cell_type": "code",
   "execution_count": 32,
   "id": "eabcfbf8-6968-4a72-b222-ca6b4aca38f7",
   "metadata": {},
   "outputs": [
    {
     "data": {
      "text/plain": [
       "4"
      ]
     },
     "execution_count": 32,
     "metadata": {},
     "output_type": "execute_result"
    }
   ],
   "source": [
    "# index() 找到某个元素在元组中的最左索引位置\n",
    "tup = (1,2,3,4,5,5,5,5)\n",
    "tup.index(5)"
   ]
  },
  {
   "cell_type": "code",
   "execution_count": 33,
   "id": "7698efc2-844c-47e9-aa65-099490ab345e",
   "metadata": {},
   "outputs": [
    {
     "data": {
      "text/plain": [
       "(5, 5, 5, 5, 4, 3, 2, 1)"
      ]
     },
     "execution_count": 33,
     "metadata": {},
     "output_type": "execute_result"
    }
   ],
   "source": [
    "tup[::-1]"
   ]
  },
  {
   "cell_type": "markdown",
   "id": "16cdfc49-d93a-4b79-8646-2e24ffe332d1",
   "metadata": {},
   "source": [
    "### 3.1.2 列表"
   ]
  },
  {
   "cell_type": "markdown",
   "id": "7ff416dc",
   "metadata": {},
   "source": [
    "列表可以使用内建函数 `list()` 或者 方括号`[]` 创建;"
   ]
  },
  {
   "cell_type": "code",
   "execution_count": 2,
   "id": "d0536b8b",
   "metadata": {},
   "outputs": [],
   "source": [
    "a_list = [2,3,7,None]"
   ]
  },
  {
   "cell_type": "code",
   "execution_count": 3,
   "id": "7f17ceec",
   "metadata": {},
   "outputs": [],
   "source": [
    "tup = ['foo','bar','baz']"
   ]
  },
  {
   "cell_type": "code",
   "execution_count": 4,
   "id": "c9bf615e",
   "metadata": {},
   "outputs": [],
   "source": [
    "b_list = list(tup)"
   ]
  },
  {
   "cell_type": "code",
   "execution_count": 5,
   "id": "3df3389c",
   "metadata": {},
   "outputs": [
    {
     "data": {
      "text/plain": [
       "['foo', 'bar', 'baz']"
      ]
     },
     "execution_count": 5,
     "metadata": {},
     "output_type": "execute_result"
    }
   ],
   "source": [
    "b_list"
   ]
  },
  {
   "cell_type": "code",
   "execution_count": 6,
   "id": "c2f46e97",
   "metadata": {},
   "outputs": [],
   "source": [
    "b_list[1] = 'peekaboo'"
   ]
  },
  {
   "cell_type": "code",
   "execution_count": 7,
   "id": "07248407",
   "metadata": {},
   "outputs": [
    {
     "data": {
      "text/plain": [
       "['foo', 'peekaboo', 'baz']"
      ]
     },
     "execution_count": 7,
     "metadata": {},
     "output_type": "execute_result"
    }
   ],
   "source": [
    "b_list"
   ]
  },
  {
   "cell_type": "markdown",
   "id": "8e669d18",
   "metadata": {},
   "source": [
    "列表与元组很多函数的用法是相似的；`list` 函数在数据处理中常用于将迭代器或者生成器转化为`list`;"
   ]
  },
  {
   "cell_type": "code",
   "execution_count": 8,
   "id": "aec0041b",
   "metadata": {},
   "outputs": [
    {
     "data": {
      "text/plain": [
       "range(0, 10)"
      ]
     },
     "execution_count": 8,
     "metadata": {},
     "output_type": "execute_result"
    }
   ],
   "source": [
    "gen = range(10)\n",
    "gen"
   ]
  },
  {
   "cell_type": "code",
   "execution_count": 9,
   "id": "3bd63409",
   "metadata": {},
   "outputs": [
    {
     "data": {
      "text/plain": [
       "[0, 1, 2, 3, 4, 5, 6, 7, 8, 9]"
      ]
     },
     "execution_count": 9,
     "metadata": {},
     "output_type": "execute_result"
    }
   ],
   "source": [
    "list(gen)"
   ]
  },
  {
   "cell_type": "markdown",
   "id": "ee10ac05",
   "metadata": {},
   "source": [
    "#### 3.1.2.1 增加和移除元素"
   ]
  },
  {
   "attachments": {},
   "cell_type": "markdown",
   "id": "11596521",
   "metadata": {},
   "source": [
    "- `append()` 添加元素到列表末尾\n",
    "- `insert()` 添加元素到指定位置"
   ]
  },
  {
   "cell_type": "code",
   "execution_count": 10,
   "id": "4b269f92",
   "metadata": {},
   "outputs": [],
   "source": [
    "b_list.append('dwarf')"
   ]
  },
  {
   "cell_type": "code",
   "execution_count": 11,
   "id": "9e3dc8ed",
   "metadata": {},
   "outputs": [
    {
     "data": {
      "text/plain": [
       "['foo', 'peekaboo', 'baz', 'dwarf']"
      ]
     },
     "execution_count": 11,
     "metadata": {},
     "output_type": "execute_result"
    }
   ],
   "source": [
    "b_list"
   ]
  },
  {
   "cell_type": "code",
   "execution_count": 12,
   "id": "f7269b08",
   "metadata": {},
   "outputs": [],
   "source": [
    "b_list.insert(0,'red')"
   ]
  },
  {
   "cell_type": "code",
   "execution_count": 13,
   "id": "af03b333",
   "metadata": {},
   "outputs": [
    {
     "data": {
      "text/plain": [
       "['red', 'foo', 'peekaboo', 'baz', 'dwarf']"
      ]
     },
     "execution_count": 13,
     "metadata": {},
     "output_type": "execute_result"
    }
   ],
   "source": [
    "b_list"
   ]
  },
  {
   "attachments": {},
   "cell_type": "markdown",
   "id": "ee903c8a",
   "metadata": {},
   "source": [
    "> `insert` 与 `append` 相比，计算代价较高；因为在给定位置插入元素，首先要将其后元素后移以空出插入位置；如果想要在列表头部插入元素，可以探索一下双端队列——`collection.deque`"
   ]
  },
  {
   "attachments": {},
   "cell_type": "markdown",
   "id": "042330b4",
   "metadata": {},
   "source": [
    "- `pop()` 是 `insert()` 的反操作，删除指定位置的元素，不指定位置，则删除最后一个元素；\n",
    "- `remove()` 定位到第一个符合要求的值并删除它；"
   ]
  },
  {
   "cell_type": "code",
   "execution_count": 14,
   "id": "0ee1bd63",
   "metadata": {},
   "outputs": [
    {
     "data": {
      "text/plain": [
       "['red', 'foo', 'baz', 'dwarf']"
      ]
     },
     "execution_count": 14,
     "metadata": {},
     "output_type": "execute_result"
    }
   ],
   "source": [
    "b_list.pop(2)\n",
    "b_list"
   ]
  },
  {
   "cell_type": "code",
   "execution_count": 15,
   "id": "fded653f",
   "metadata": {},
   "outputs": [],
   "source": [
    "b_list.append('foo')"
   ]
  },
  {
   "cell_type": "code",
   "execution_count": 16,
   "id": "5227ce3b",
   "metadata": {},
   "outputs": [],
   "source": [
    "b_list.remove('foo')"
   ]
  },
  {
   "cell_type": "code",
   "execution_count": 17,
   "id": "3ebd32c6",
   "metadata": {},
   "outputs": [
    {
     "data": {
      "text/plain": [
       "['red', 'baz', 'dwarf', 'foo']"
      ]
     },
     "execution_count": 17,
     "metadata": {},
     "output_type": "execute_result"
    }
   ],
   "source": [
    "b_list"
   ]
  },
  {
   "cell_type": "markdown",
   "id": "332f1c4e",
   "metadata": {},
   "source": [
    "使用 `in` 检查一个值是否在列表中；使用 `not in` 检查一个值是否不在列表中；"
   ]
  },
  {
   "cell_type": "code",
   "execution_count": 18,
   "id": "62c8ffdb",
   "metadata": {},
   "outputs": [
    {
     "data": {
      "text/plain": [
       "True"
      ]
     },
     "execution_count": 18,
     "metadata": {},
     "output_type": "execute_result"
    }
   ],
   "source": [
    "'dwarf' in b_list"
   ]
  },
  {
   "cell_type": "code",
   "execution_count": 20,
   "id": "ee3850f8",
   "metadata": {},
   "outputs": [
    {
     "data": {
      "text/plain": [
       "False"
      ]
     },
     "execution_count": 20,
     "metadata": {},
     "output_type": "execute_result"
    }
   ],
   "source": [
    "'dwarf' not in b_list"
   ]
  },
  {
   "attachments": {},
   "cell_type": "markdown",
   "id": "47859284",
   "metadata": {},
   "source": [
    "> 与字典、集合相比，检查列表中是否包含一个值是非常缓慢的。这是因为要对列表进行线性扫描，而字典和集合则使用哈希表；"
   ]
  },
  {
   "attachments": {},
   "cell_type": "markdown",
   "id": "938e8022",
   "metadata": {},
   "source": [
    "#### 3.1.2.2 连接和联合列表"
   ]
  },
  {
   "attachments": {},
   "cell_type": "markdown",
   "id": "c82e256c",
   "metadata": {},
   "source": [
    "与元组类似，两个列表可以使用 `+` 连接："
   ]
  },
  {
   "cell_type": "code",
   "execution_count": 21,
   "id": "2852e725",
   "metadata": {},
   "outputs": [
    {
     "data": {
      "text/plain": [
       "[4, None, 'foo', 7, 8, 2.3]"
      ]
     },
     "execution_count": 21,
     "metadata": {},
     "output_type": "execute_result"
    }
   ],
   "source": [
    "[4,None,'foo'] + [7,8,(2.3)]"
   ]
  },
  {
   "attachments": {},
   "cell_type": "markdown",
   "id": "9b26f0b7",
   "metadata": {},
   "source": [
    "还可以使用`extend()`方法向已定义的列表中添加多个元素："
   ]
  },
  {
   "cell_type": "code",
   "execution_count": 22,
   "id": "780523fa",
   "metadata": {},
   "outputs": [],
   "source": [
    "x = [4,None,'foo']"
   ]
  },
  {
   "cell_type": "code",
   "execution_count": 23,
   "id": "44794ac5",
   "metadata": {},
   "outputs": [
    {
     "data": {
      "text/plain": [
       "[4, None, 'foo', 7, 8, (2, 3)]"
      ]
     },
     "execution_count": 23,
     "metadata": {},
     "output_type": "execute_result"
    }
   ],
   "source": [
    "x.extend([7,8,(2,3)])\n",
    "x"
   ]
  },
  {
   "cell_type": "markdown",
   "id": "0ab57f77",
   "metadata": {},
   "source": [
    "> 使用 `extend()` 方法连接列表要比使用`+`连接要快得多；这是因为使用`+`连接会创建新对象并且还要复制对象；"
   ]
  },
  {
   "attachments": {},
   "cell_type": "markdown",
   "id": "7cc2adb9",
   "metadata": {},
   "source": [
    "#### 3.1.2.3 排序"
   ]
  },
  {
   "attachments": {},
   "cell_type": "markdown",
   "id": "c92df65b",
   "metadata": {},
   "source": [
    "使用`sort()` 方法对列表进行内部排序（无需新建一个对象）："
   ]
  },
  {
   "cell_type": "code",
   "execution_count": 26,
   "id": "bbc8276d",
   "metadata": {},
   "outputs": [],
   "source": [
    "a = [3,1,2,7,5]"
   ]
  },
  {
   "cell_type": "code",
   "execution_count": 27,
   "id": "9a902177",
   "metadata": {},
   "outputs": [
    {
     "data": {
      "text/plain": [
       "[1, 2, 3, 5, 7]"
      ]
     },
     "execution_count": 27,
     "metadata": {},
     "output_type": "execute_result"
    }
   ],
   "source": [
    "a.sort()\n",
    "a"
   ]
  },
  {
   "cell_type": "markdown",
   "id": "36433c0f",
   "metadata": {},
   "source": [
    "可以给`sort()` 方法指定一个生成排序值的函数，用于排序："
   ]
  },
  {
   "cell_type": "code",
   "execution_count": 28,
   "id": "59eecdf6",
   "metadata": {},
   "outputs": [],
   "source": [
    "b = ['saw','small','six','he','foxes']"
   ]
  },
  {
   "cell_type": "code",
   "execution_count": 29,
   "id": "11767a99",
   "metadata": {},
   "outputs": [
    {
     "data": {
      "text/plain": [
       "['he', 'saw', 'six', 'small', 'foxes']"
      ]
     },
     "execution_count": 29,
     "metadata": {},
     "output_type": "execute_result"
    }
   ],
   "source": [
    "b.sort(key=len)\n",
    "b"
   ]
  },
  {
   "cell_type": "markdown",
   "id": "d9c11a1d",
   "metadata": {},
   "source": [
    "#### 3.1.2.4 二分搜索和已排序列表的维护"
   ]
  },
  {
   "attachments": {},
   "cell_type": "markdown",
   "id": "ca8c1dbf",
   "metadata": {},
   "source": [
    "内建的 `bisect` 模块实现了二分搜索和已排序列表的插值；`bisect.bisect` hi找到元素应当被插入的位置，并保持序列排序；而 `bisect.insort` 将元素插入到相应位置；"
   ]
  },
  {
   "cell_type": "code",
   "execution_count": 30,
   "id": "a830985a",
   "metadata": {},
   "outputs": [
    {
     "data": {
      "text/plain": [
       "3"
      ]
     },
     "execution_count": 30,
     "metadata": {},
     "output_type": "execute_result"
    }
   ],
   "source": [
    "import bisect\n",
    "c = [1,2,2,3,4,7]\n",
    "bisect.bisect(c,2)"
   ]
  },
  {
   "cell_type": "code",
   "execution_count": 31,
   "id": "02b651d4",
   "metadata": {},
   "outputs": [
    {
     "data": {
      "text/plain": [
       "[1, 2, 2, 3, 4, 7]"
      ]
     },
     "execution_count": 31,
     "metadata": {},
     "output_type": "execute_result"
    }
   ],
   "source": [
    "c"
   ]
  },
  {
   "cell_type": "code",
   "execution_count": 32,
   "id": "f6495671",
   "metadata": {},
   "outputs": [],
   "source": [
    "bisect.insort(c,3)"
   ]
  },
  {
   "cell_type": "code",
   "execution_count": 33,
   "id": "adf51f40",
   "metadata": {},
   "outputs": [
    {
     "data": {
      "text/plain": [
       "[1, 2, 2, 3, 3, 4, 7]"
      ]
     },
     "execution_count": 33,
     "metadata": {},
     "output_type": "execute_result"
    }
   ],
   "source": [
    "c"
   ]
  },
  {
   "attachments": {},
   "cell_type": "markdown",
   "id": "7d8d09c4",
   "metadata": {},
   "source": [
    "> `bisect` 模块的函数不会检查列表是否已排序，因为这样做代价太大；对未排序的列表使用 `bisect` 的函数虽然不会报错，但可能导致不正确的结果！"
   ]
  },
  {
   "attachments": {},
   "cell_type": "markdown",
   "id": "3cebe199",
   "metadata": {},
   "source": [
    "#### 3.1.2.5 切片"
   ]
  },
  {
   "attachments": {},
   "cell_type": "markdown",
   "id": "0623de36",
   "metadata": {},
   "source": [
    "使用切片可以对大多数的序列取子集；基本形式是：`seq[start:end]`;包含 `start`不包含`end`;"
   ]
  },
  {
   "cell_type": "code",
   "execution_count": 35,
   "id": "038c36e1",
   "metadata": {},
   "outputs": [
    {
     "data": {
      "text/plain": [
       "[1, 2, 3, 4]"
      ]
     },
     "execution_count": 35,
     "metadata": {},
     "output_type": "execute_result"
    }
   ],
   "source": [
    "seq = [0, 1, 2, 3, 4, 5, 6, 7, 8, 9]\n",
    "seq[1:5]"
   ]
  },
  {
   "cell_type": "code",
   "execution_count": 36,
   "id": "ed6e7611",
   "metadata": {},
   "outputs": [],
   "source": [
    "# 可以修改切片的值\n",
    "seq[3:4] = [3,0]"
   ]
  },
  {
   "cell_type": "code",
   "execution_count": 37,
   "id": "7e5a846d",
   "metadata": {},
   "outputs": [
    {
     "data": {
      "text/plain": [
       "[0, 1, 2, 3, 0, 4, 5, 6, 7, 8, 9]"
      ]
     },
     "execution_count": 37,
     "metadata": {},
     "output_type": "execute_result"
    }
   ],
   "source": [
    "seq"
   ]
  },
  {
   "attachments": {},
   "cell_type": "markdown",
   "id": "d037c3b4",
   "metadata": {},
   "source": [
    "`start` 和 `end` 是可以省略的，省略后默认传入序列的起始或者结束位置；"
   ]
  },
  {
   "cell_type": "code",
   "execution_count": 40,
   "id": "f601fec9",
   "metadata": {},
   "outputs": [
    {
     "data": {
      "text/plain": [
       "[0, 1, 2, 3, 0]"
      ]
     },
     "execution_count": 40,
     "metadata": {},
     "output_type": "execute_result"
    }
   ],
   "source": [
    "seq[:5]"
   ]
  },
  {
   "cell_type": "code",
   "execution_count": 51,
   "id": "0481ce9b",
   "metadata": {},
   "outputs": [
    {
     "data": {
      "text/plain": [
       "[3, 0, 4, 5, 6, 7, 8, 9]"
      ]
     },
     "execution_count": 51,
     "metadata": {},
     "output_type": "execute_result"
    }
   ],
   "source": [
    "seq[3:]"
   ]
  },
  {
   "attachments": {},
   "cell_type": "markdown",
   "id": "5246bddb",
   "metadata": {},
   "source": [
    "`start` 和 `end` 可以是正数也可以是负数：\n",
    "- 负数 ——`-1`表示末位，`-len(seq)`表示首位；\n",
    "- 正数 —— `len(seq)-1` 表示末位，`0` 表示首位；"
   ]
  },
  {
   "cell_type": "code",
   "execution_count": 42,
   "id": "fab73424",
   "metadata": {},
   "outputs": [
    {
     "data": {
      "text/plain": [
       "[6, 7, 8, 9]"
      ]
     },
     "execution_count": 42,
     "metadata": {},
     "output_type": "execute_result"
    }
   ],
   "source": [
    "seq[-4:]"
   ]
  },
  {
   "cell_type": "code",
   "execution_count": 43,
   "id": "63add4cb",
   "metadata": {},
   "outputs": [
    {
     "data": {
      "text/plain": [
       "[4, 5, 6, 7]"
      ]
     },
     "execution_count": 43,
     "metadata": {},
     "output_type": "execute_result"
    }
   ],
   "source": [
    "seq[-6:-2]"
   ]
  },
  {
   "cell_type": "markdown",
   "id": "5d11de31",
   "metadata": {},
   "source": [
    "切片还可以指定步长，在第二个冒号后面使用："
   ]
  },
  {
   "cell_type": "code",
   "execution_count": 45,
   "id": "08057ab1",
   "metadata": {},
   "outputs": [
    {
     "data": {
      "text/plain": [
       "[0, 2, 0, 5, 7, 9]"
      ]
     },
     "execution_count": 45,
     "metadata": {},
     "output_type": "execute_result"
    }
   ],
   "source": [
    "seq[::2]"
   ]
  },
  {
   "attachments": {},
   "cell_type": "markdown",
   "id": "6b558b7f",
   "metadata": {},
   "source": [
    "步长位`-1`可以实现列表的翻转；"
   ]
  },
  {
   "cell_type": "code",
   "execution_count": 46,
   "id": "113b6384",
   "metadata": {},
   "outputs": [
    {
     "data": {
      "text/plain": [
       "[9, 8, 7, 6, 5, 4, 0, 3, 2, 1, 0]"
      ]
     },
     "execution_count": 46,
     "metadata": {},
     "output_type": "execute_result"
    }
   ],
   "source": [
    "seq[::-1]"
   ]
  },
  {
   "attachments": {},
   "cell_type": "markdown",
   "id": "6ca03e33",
   "metadata": {},
   "source": [
    "![](./python切片示例.png)"
   ]
  },
  {
   "attachments": {},
   "cell_type": "markdown",
   "id": "af296186",
   "metadata": {},
   "source": [
    "### 3.1.3 内建序列函数 "
   ]
  },
  {
   "attachments": {},
   "cell_type": "markdown",
   "id": "452789cd",
   "metadata": {},
   "source": [
    "#### 3.1.3.1 `enumerate`"
   ]
  },
  {
   "attachments": {},
   "cell_type": "markdown",
   "id": "0e6548e1",
   "metadata": {},
   "source": [
    "`enumerate` 内建函数返回`(i, value)` 元组序列；其中，`i` 表示元素的索引，`value` 表示元素的值；"
   ]
  },
  {
   "attachments": {},
   "cell_type": "markdown",
   "id": "2722e790",
   "metadata": {},
   "source": [
    "```\n",
    "for i, value in enumerate(collection):\n",
    "    # do something\n",
    "```"
   ]
  },
  {
   "attachments": {},
   "cell_type": "markdown",
   "id": "0763d5a8",
   "metadata": {},
   "source": [
    "可以通过`enumerate` 构建数据对索引的映射："
   ]
  },
  {
   "cell_type": "code",
   "execution_count": 4,
   "id": "3af437f1",
   "metadata": {},
   "outputs": [],
   "source": [
    "some_list =['foo','bar','baz']"
   ]
  },
  {
   "cell_type": "code",
   "execution_count": 7,
   "id": "a33b4dac",
   "metadata": {},
   "outputs": [
    {
     "data": {
      "text/plain": [
       "{'foo': 0, 'bar': 1, 'baz': 2}"
      ]
     },
     "execution_count": 7,
     "metadata": {},
     "output_type": "execute_result"
    }
   ],
   "source": [
    "mapping={}\n",
    "for i, v in enumerate(some_list):\n",
    "    mapping[v] = i\n",
    "\n",
    "mapping"
   ]
  },
  {
   "attachments": {},
   "cell_type": "markdown",
   "id": "7f2ec96a",
   "metadata": {},
   "source": [
    "#### 3.1.3.2 `sorted`"
   ]
  },
  {
   "attachments": {},
   "cell_type": "markdown",
   "id": "f2395392",
   "metadata": {},
   "source": [
    "`sorted` 函数返回一个根据任意序列中的元素新建的已排序列表：`sorted`函数接收的参数与列表的 `sort`方法一致；"
   ]
  },
  {
   "cell_type": "code",
   "execution_count": 9,
   "id": "4ebe710b",
   "metadata": {},
   "outputs": [
    {
     "data": {
      "text/plain": [
       "[0, 1, 2, 3, 3, 6, 7]"
      ]
     },
     "execution_count": 9,
     "metadata": {},
     "output_type": "execute_result"
    }
   ],
   "source": [
    "sorted([7,1,3,6,0,3,2])"
   ]
  },
  {
   "cell_type": "code",
   "execution_count": 11,
   "id": "36f5117c",
   "metadata": {},
   "outputs": [
    {
     "data": {
      "text/plain": [
       "[' ', 'a', 'c', 'e', 'e', 'h', 'o', 'r', 'r', 's']"
      ]
     },
     "execution_count": 11,
     "metadata": {},
     "output_type": "execute_result"
    }
   ],
   "source": [
    "sorted('horse race')"
   ]
  },
  {
   "attachments": {},
   "cell_type": "markdown",
   "id": "ef48b763",
   "metadata": {},
   "source": [
    "#### 3.1.3.3 `zip` "
   ]
  },
  {
   "attachments": {},
   "cell_type": "markdown",
   "id": "b06f06f5",
   "metadata": {},
   "source": [
    "`zip` 将列表、元组或其他序列的元素配对，构建成一个新的元组组成的列表；`zip` 可以处理任意长度的序列，它生成的序列长度由最短的序列决定；"
   ]
  },
  {
   "cell_type": "code",
   "execution_count": 1,
   "id": "8d24c5ea",
   "metadata": {},
   "outputs": [],
   "source": [
    "seq1 = ['foo','bar','baz']"
   ]
  },
  {
   "cell_type": "code",
   "execution_count": 2,
   "id": "0a8df2e5",
   "metadata": {},
   "outputs": [],
   "source": [
    "seq2 = ['one','two','three']"
   ]
  },
  {
   "cell_type": "code",
   "execution_count": 12,
   "id": "2158839e",
   "metadata": {},
   "outputs": [
    {
     "data": {
      "text/plain": [
       "[('foo', 'one'), ('bar', 'two'), ('baz', 'three')]"
      ]
     },
     "execution_count": 12,
     "metadata": {},
     "output_type": "execute_result"
    }
   ],
   "source": [
    "list(zip(seq1,seq2))"
   ]
  },
  {
   "cell_type": "code",
   "execution_count": 13,
   "id": "57cdbc5e",
   "metadata": {},
   "outputs": [
    {
     "data": {
      "text/plain": [
       "[('foo', 'one', False), ('bar', 'two', True)]"
      ]
     },
     "execution_count": 13,
     "metadata": {},
     "output_type": "execute_result"
    }
   ],
   "source": [
    "seq3 = [False,True]\n",
    "list(zip(seq1,seq2,seq3))"
   ]
  },
  {
   "cell_type": "markdown",
   "id": "5d82df2b",
   "metadata": {},
   "source": [
    "`zip` 的使用场景是同时遍历多个序列，有时候会与`enumerate` 同时使用"
   ]
  },
  {
   "cell_type": "code",
   "execution_count": 15,
   "id": "e065be10",
   "metadata": {},
   "outputs": [
    {
     "name": "stdout",
     "output_type": "stream",
     "text": [
      "0: foo, one\n",
      "1: bar, two\n",
      "2: baz, three\n"
     ]
    }
   ],
   "source": [
    "for i, (a,b) in enumerate(zip(seq1,seq2)):\n",
    "    print(f'{i}: {a}, {b}')"
   ]
  },
  {
   "cell_type": "markdown",
   "id": "10c4f253",
   "metadata": {},
   "source": [
    "给定一个已“配对”的序列，`zip`函数可以将序列拆分 —— 行转列"
   ]
  },
  {
   "cell_type": "code",
   "execution_count": 16,
   "id": "d6fdcbdd",
   "metadata": {},
   "outputs": [],
   "source": [
    "pitchers = [('Nolan', 'Ryan'),('Roger','Clemens'),('Schilling','Curt')]"
   ]
  },
  {
   "cell_type": "code",
   "execution_count": 17,
   "id": "22e54e76",
   "metadata": {},
   "outputs": [],
   "source": [
    "first_name,last_name = zip(*pitchers)"
   ]
  },
  {
   "cell_type": "code",
   "execution_count": 18,
   "id": "7723fd89",
   "metadata": {},
   "outputs": [
    {
     "data": {
      "text/plain": [
       "('Nolan', 'Roger', 'Schilling')"
      ]
     },
     "execution_count": 18,
     "metadata": {},
     "output_type": "execute_result"
    }
   ],
   "source": [
    "first_name"
   ]
  },
  {
   "cell_type": "code",
   "execution_count": 19,
   "id": "cf2293e7",
   "metadata": {},
   "outputs": [
    {
     "data": {
      "text/plain": [
       "('Ryan', 'Clemens', 'Curt')"
      ]
     },
     "execution_count": 19,
     "metadata": {},
     "output_type": "execute_result"
    }
   ],
   "source": [
    "last_name"
   ]
  },
  {
   "attachments": {},
   "cell_type": "markdown",
   "id": "871b9e7c",
   "metadata": {},
   "source": [
    "#### 3.1.3.4 `reversed `"
   ]
  },
  {
   "attachments": {},
   "cell_type": "markdown",
   "id": "2017c42b",
   "metadata": {},
   "source": [
    "`reversed` 函数将序列的元素倒序排列："
   ]
  },
  {
   "cell_type": "code",
   "execution_count": 20,
   "id": "e1084ec5",
   "metadata": {},
   "outputs": [
    {
     "data": {
      "text/plain": [
       "[9, 8, 7, 6, 5, 4, 3, 2, 1, 0]"
      ]
     },
     "execution_count": 20,
     "metadata": {},
     "output_type": "execute_result"
    }
   ],
   "source": [
    "list(reversed(range(10)))"
   ]
  },
  {
   "attachments": {},
   "cell_type": "markdown",
   "id": "36c45038",
   "metadata": {},
   "source": [
    "> `reversed` 是一个生成器，因此如果没有实例化（例如使用list函数或进行for循环），它并不会产生一个倒序列表！"
   ]
  },
  {
   "attachments": {},
   "cell_type": "markdown",
   "id": "40d0f7ce",
   "metadata": {},
   "source": [
    "### 3.1.4 字典"
   ]
  },
  {
   "attachments": {},
   "cell_type": "markdown",
   "id": "be4b1390",
   "metadata": {},
   "source": [
    "`dict` （字典） 存储键值对；使用`{}`或者`dict()`函数创建；"
   ]
  },
  {
   "cell_type": "code",
   "execution_count": 21,
   "id": "6e9830da",
   "metadata": {},
   "outputs": [],
   "source": [
    "empty_dict = {}"
   ]
  },
  {
   "cell_type": "code",
   "execution_count": 22,
   "id": "3cf35188",
   "metadata": {},
   "outputs": [
    {
     "data": {
      "text/plain": [
       "{'a': 'some value', 'b': [1, 2, 3, 4]}"
      ]
     },
     "execution_count": 22,
     "metadata": {},
     "output_type": "execute_result"
    }
   ],
   "source": [
    "d1 = {'a':'some value','b':[1,2,3,4]}\n",
    "d1"
   ]
  },
  {
   "cell_type": "markdown",
   "id": "046657ee",
   "metadata": {},
   "source": [
    "使用方括号`[]` 访问、插入、修改字典元素；"
   ]
  },
  {
   "cell_type": "code",
   "execution_count": 23,
   "id": "f1948ff7",
   "metadata": {},
   "outputs": [],
   "source": [
    "# 插入元素\n",
    "d1[7] = 'an integer'"
   ]
  },
  {
   "cell_type": "code",
   "execution_count": 24,
   "id": "0cd84de5",
   "metadata": {},
   "outputs": [
    {
     "data": {
      "text/plain": [
       "[1, 2, 3, 4]"
      ]
     },
     "execution_count": 24,
     "metadata": {},
     "output_type": "execute_result"
    }
   ],
   "source": [
    "# 访问元素\n",
    "d1['b']"
   ]
  },
  {
   "cell_type": "code",
   "execution_count": 25,
   "id": "7b5aa08e",
   "metadata": {},
   "outputs": [],
   "source": [
    "# 修改元素\n",
    "d1['a'] = 'modify the value'"
   ]
  },
  {
   "cell_type": "code",
   "execution_count": 26,
   "id": "891a0b4b",
   "metadata": {},
   "outputs": [
    {
     "data": {
      "text/plain": [
       "{'a': 'modify the value', 'b': [1, 2, 3, 4], 7: 'an integer'}"
      ]
     },
     "execution_count": 26,
     "metadata": {},
     "output_type": "execute_result"
    }
   ],
   "source": [
    "d1"
   ]
  },
  {
   "cell_type": "markdown",
   "id": "2ffdd926",
   "metadata": {},
   "source": [
    "使用 `in` 检查字典中是否存在某个指定的 `key`"
   ]
  },
  {
   "cell_type": "code",
   "execution_count": 27,
   "id": "1cbebdac",
   "metadata": {},
   "outputs": [
    {
     "data": {
      "text/plain": [
       "True"
      ]
     },
     "execution_count": 27,
     "metadata": {},
     "output_type": "execute_result"
    }
   ],
   "source": [
    "'b' in d1"
   ]
  },
  {
   "attachments": {},
   "cell_type": "markdown",
   "id": "f19b0327",
   "metadata": {},
   "source": [
    "使用 `del` 关键字或者 `pop()` 方法删除值，`pop()`方法会在删除的同时返回被删除的值，并删除键；"
   ]
  },
  {
   "cell_type": "code",
   "execution_count": 29,
   "id": "d6247678",
   "metadata": {},
   "outputs": [
    {
     "data": {
      "text/plain": [
       "{'a': 'modify the value', 'b': [1, 2, 3, 4], 7: 'an integer', 5: 'some value'}"
      ]
     },
     "execution_count": 29,
     "metadata": {},
     "output_type": "execute_result"
    }
   ],
   "source": [
    "d1[5] = 'some value'\n",
    "d1['dummy'] = 'another value'\n",
    "d1"
   ]
  },
  {
   "cell_type": "code",
   "execution_count": 31,
   "id": "045f153f",
   "metadata": {},
   "outputs": [
    {
     "data": {
      "text/plain": [
       "{'a': 'modify the value',\n",
       " 'b': [1, 2, 3, 4],\n",
       " 7: 'an integer',\n",
       " 'dummy': 'another value'}"
      ]
     },
     "execution_count": 31,
     "metadata": {},
     "output_type": "execute_result"
    }
   ],
   "source": [
    "# 使用 del 删除值\n",
    "del d1[5]\n",
    "d1\n"
   ]
  },
  {
   "cell_type": "code",
   "execution_count": 32,
   "id": "6bd9cf57",
   "metadata": {},
   "outputs": [
    {
     "data": {
      "text/plain": [
       "'another value'"
      ]
     },
     "execution_count": 32,
     "metadata": {},
     "output_type": "execute_result"
    }
   ],
   "source": [
    "# pop 删除指定元素\n",
    "ret = d1.pop('dummy')\n",
    "ret"
   ]
  },
  {
   "cell_type": "code",
   "execution_count": 33,
   "id": "0e7183fc",
   "metadata": {},
   "outputs": [
    {
     "data": {
      "text/plain": [
       "{'a': 'modify the value', 'b': [1, 2, 3, 4], 7: 'an integer'}"
      ]
     },
     "execution_count": 33,
     "metadata": {},
     "output_type": "execute_result"
    }
   ],
   "source": [
    "d1"
   ]
  },
  {
   "cell_type": "code",
   "execution_count": 34,
   "id": "c23c90bd",
   "metadata": {},
   "outputs": [
    {
     "data": {
      "text/plain": [
       "(7, 'an integer')"
      ]
     },
     "execution_count": 34,
     "metadata": {},
     "output_type": "execute_result"
    }
   ],
   "source": [
    "# popitem 删除最后一个元素\n",
    "ret = d1.popitem()\n",
    "ret"
   ]
  },
  {
   "cell_type": "code",
   "execution_count": 35,
   "id": "fc891eed",
   "metadata": {},
   "outputs": [
    {
     "data": {
      "text/plain": [
       "{'a': 'modify the value', 'b': [1, 2, 3, 4]}"
      ]
     },
     "execution_count": 35,
     "metadata": {},
     "output_type": "execute_result"
    }
   ],
   "source": [
    "d1"
   ]
  },
  {
   "attachments": {},
   "cell_type": "markdown",
   "id": "4cdf243a",
   "metadata": {},
   "source": [
    "`keys()` 和 `values` 方法分别返回键、值迭代器；`items()`方法返回键值元组的别表；"
   ]
  },
  {
   "cell_type": "code",
   "execution_count": 39,
   "id": "bc97ffae",
   "metadata": {},
   "outputs": [
    {
     "data": {
      "text/plain": [
       "dict_items([('a', 'modify the value'), ('b', [1, 2, 3, 4])])"
      ]
     },
     "execution_count": 39,
     "metadata": {},
     "output_type": "execute_result"
    }
   ],
   "source": [
    "d1.items()"
   ]
  },
  {
   "cell_type": "code",
   "execution_count": 40,
   "id": "3691f32a",
   "metadata": {},
   "outputs": [
    {
     "data": {
      "text/plain": [
       "dict_keys(['a', 'b'])"
      ]
     },
     "execution_count": 40,
     "metadata": {},
     "output_type": "execute_result"
    }
   ],
   "source": [
    "d1.keys()"
   ]
  },
  {
   "attachments": {},
   "cell_type": "markdown",
   "id": "5ad0e286",
   "metadata": {},
   "source": [
    "`update()` 方法可以合并两个字典；如果字典中存在重复键值，原有键值会被覆盖；"
   ]
  },
  {
   "cell_type": "code",
   "execution_count": 42,
   "id": "efbd0f02",
   "metadata": {},
   "outputs": [
    {
     "data": {
      "text/plain": [
       "{'a': 'modify the value', 'b': 'foo', 'c': 12}"
      ]
     },
     "execution_count": 42,
     "metadata": {},
     "output_type": "execute_result"
    }
   ],
   "source": [
    "d1.update({'b':'foo','c':12})\n",
    "d1"
   ]
  },
  {
   "cell_type": "markdown",
   "id": "e84b974b",
   "metadata": {},
   "source": [
    "#### 3.1.4.1 从序列生成字典"
   ]
  },
  {
   "cell_type": "markdown",
   "id": "a445285f",
   "metadata": {},
   "source": [
    "`dict()` 函数可以接收一个 2-元组的列表，创建字典；"
   ]
  },
  {
   "cell_type": "code",
   "execution_count": 44,
   "id": "7088b8df",
   "metadata": {},
   "outputs": [],
   "source": [
    "mapping = dict(zip(range(5),reversed(range(5))))"
   ]
  },
  {
   "cell_type": "code",
   "execution_count": 45,
   "id": "8fb7b001",
   "metadata": {},
   "outputs": [
    {
     "data": {
      "text/plain": [
       "{0: 4, 1: 3, 2: 2, 3: 1, 4: 0}"
      ]
     },
     "execution_count": 45,
     "metadata": {},
     "output_type": "execute_result"
    }
   ],
   "source": [
    "mapping"
   ]
  },
  {
   "cell_type": "markdown",
   "id": "5c7972db",
   "metadata": {},
   "source": [
    "#### 3.1.4.2 默认值"
   ]
  },
  {
   "attachments": {},
   "cell_type": "markdown",
   "id": "898aa0b4",
   "metadata": {},
   "source": [
    "字典的 `get(key,default)` 和 `pop(key,default)` 方法可以指定默认值，在字典中不存在指定键时，返回默认值；在未指定 `default` 参数时，`get()` 方法获取不存在的键会返回`None`,而`pop()` 则会抛出 `KeyError`异常；"
   ]
  },
  {
   "cell_type": "code",
   "execution_count": 50,
   "id": "46082611",
   "metadata": {},
   "outputs": [
    {
     "ename": "KeyError",
     "evalue": "'d'",
     "output_type": "error",
     "traceback": [
      "\u001b[1;31m---------------------------------------------------------------------------\u001b[0m",
      "\u001b[1;31mKeyError\u001b[0m                                  Traceback (most recent call last)",
      "Cell \u001b[1;32mIn[50], line 1\u001b[0m\n\u001b[1;32m----> 1\u001b[0m a \u001b[39m=\u001b[39m d1\u001b[39m.\u001b[39;49mpop(\u001b[39m'\u001b[39;49m\u001b[39md\u001b[39;49m\u001b[39m'\u001b[39;49m)\n\u001b[0;32m      2\u001b[0m a\n",
      "\u001b[1;31mKeyError\u001b[0m: 'd'"
     ]
    }
   ],
   "source": [
    "a = d1.pop('d')\n",
    "a"
   ]
  },
  {
   "cell_type": "code",
   "execution_count": 51,
   "id": "48617630",
   "metadata": {},
   "outputs": [
    {
     "data": {
      "text/plain": [
       "'d'"
      ]
     },
     "execution_count": 51,
     "metadata": {},
     "output_type": "execute_result"
    }
   ],
   "source": [
    "a = d1.pop('d','d')\n",
    "a"
   ]
  },
  {
   "cell_type": "markdown",
   "id": "eefe697a",
   "metadata": {},
   "source": [
    "如果字典中的值时列表，并且想给列表中添加值；如果字典中的这个列表在添加值之前还未创建，可以通过 `setdefault` 设置默认值；如果不存在，则使用默认值添加元素；"
   ]
  },
  {
   "cell_type": "code",
   "execution_count": 52,
   "id": "132043bd",
   "metadata": {},
   "outputs": [
    {
     "data": {
      "text/plain": [
       "{'a': ['apple', 'actom'], 'b': ['bat', 'bar', 'book']}"
      ]
     },
     "execution_count": 52,
     "metadata": {},
     "output_type": "execute_result"
    }
   ],
   "source": [
    "words = ['apple','bat','bar','actom','book']\n",
    "by_letter = {}\n",
    "for word in words:\n",
    "    # 根据首字母进行分类\n",
    "    letter = word[0]\n",
    "    by_letter.setdefault(letter,[]).append(word)\n",
    "by_letter"
   ]
  },
  {
   "cell_type": "markdown",
   "id": "9890c33b",
   "metadata": {},
   "source": [
    "内置 `collections` 模块的一个类 `defaultdict`,可以传递一个类型或者函数来为字典的每个槽生成默认值！"
   ]
  },
  {
   "cell_type": "code",
   "execution_count": 54,
   "id": "6e18ac07",
   "metadata": {},
   "outputs": [
    {
     "data": {
      "text/plain": [
       "defaultdict(list, {'a': ['apple', 'actom'], 'b': ['bat', 'bar', 'book']})"
      ]
     },
     "execution_count": 54,
     "metadata": {},
     "output_type": "execute_result"
    }
   ],
   "source": [
    "from collections import defaultdict\n",
    "by_letter = defaultdict(list)\n",
    "for word in words:\n",
    "    by_letter[word[0]].append(word)\n",
    "by_letter"
   ]
  },
  {
   "attachments": {},
   "cell_type": "markdown",
   "id": "7c29ea4b",
   "metadata": {},
   "source": [
    "#### 3.1.4.3 有效的键类型"
   ]
  },
  {
   "attachments": {},
   "cell_type": "markdown",
   "id": "af45747a",
   "metadata": {},
   "source": [
    "键必须时不可变对象；比如标量类型或者元组（元组元素必须也是不可变对象）；可以使用`hash()` 函数检查；如果要使用列表作为键，一种方式时将列表转为元组，条件是内部元素都是不可变的即可以哈希化；"
   ]
  },
  {
   "cell_type": "code",
   "execution_count": 55,
   "id": "c94e3cc0",
   "metadata": {},
   "outputs": [
    {
     "data": {
      "text/plain": [
       "8480243417226916217"
      ]
     },
     "execution_count": 55,
     "metadata": {},
     "output_type": "execute_result"
    }
   ],
   "source": [
    "hash('string')"
   ]
  },
  {
   "cell_type": "code",
   "execution_count": 56,
   "id": "8a7add2c",
   "metadata": {},
   "outputs": [
    {
     "ename": "TypeError",
     "evalue": "unhashable type: 'list'",
     "output_type": "error",
     "traceback": [
      "\u001b[1;31m---------------------------------------------------------------------------\u001b[0m",
      "\u001b[1;31mTypeError\u001b[0m                                 Traceback (most recent call last)",
      "Cell \u001b[1;32mIn[56], line 1\u001b[0m\n\u001b[1;32m----> 1\u001b[0m \u001b[39mhash\u001b[39;49m((\u001b[39m1\u001b[39;49m,\u001b[39m3\u001b[39;49m,[\u001b[39m1\u001b[39;49m,\u001b[39m3\u001b[39;49m]))\n",
      "\u001b[1;31mTypeError\u001b[0m: unhashable type: 'list'"
     ]
    }
   ],
   "source": [
    "hash((1,3,[1,3]))"
   ]
  },
  {
   "attachments": {},
   "cell_type": "markdown",
   "id": "4f649635",
   "metadata": {},
   "source": [
    "  ### 3.1.5 `set`"
   ]
  },
  {
   "attachments": {},
   "cell_type": "markdown",
   "id": "bae7e444",
   "metadata": {},
   "source": [
    "集合是一种无序且元素唯一的容器。集合的创建方式有两种：`set()` 函数和 `{字面值集合}`"
   ]
  },
  {
   "cell_type": "code",
   "execution_count": 60,
   "id": "553e56d1",
   "metadata": {},
   "outputs": [
    {
     "data": {
      "text/plain": [
       "{1, 2, 3}"
      ]
     },
     "execution_count": 60,
     "metadata": {},
     "output_type": "execute_result"
    }
   ],
   "source": [
    "set([1,2,2,2,1,3,3,3])"
   ]
  },
  {
   "cell_type": "code",
   "execution_count": 61,
   "id": "a53d210b",
   "metadata": {},
   "outputs": [
    {
     "data": {
      "text/plain": [
       "{1, 2, 3}"
      ]
     },
     "execution_count": 61,
     "metadata": {},
     "output_type": "execute_result"
    }
   ],
   "source": [
    "{2,3,3,2,3,1,3,3}"
   ]
  },
  {
   "attachments": {},
   "cell_type": "markdown",
   "id": "6ada5427",
   "metadata": {},
   "source": [
    "- 添加单一元素使用`add()`方法；\n",
    "- 添加多个元素使用`update()`方法；"
   ]
  },
  {
   "cell_type": "code",
   "execution_count": 66,
   "id": "98b0ed29",
   "metadata": {},
   "outputs": [
    {
     "data": {
      "text/plain": [
       "{'item1', 'item2', 'item3'}"
      ]
     },
     "execution_count": 66,
     "metadata": {},
     "output_type": "execute_result"
    }
   ],
   "source": [
    "st = set()\n",
    "st.add('item1')\n",
    "st.update(['item2','item3'])\n",
    "st"
   ]
  },
  {
   "attachments": {},
   "cell_type": "markdown",
   "id": "094e43ea",
   "metadata": {},
   "source": [
    "- 使用  `remove(item)` 方法删除指定元素，如果指定元素在集合中不存在，则抛出异常；\n",
    "- 而使用`discard(item)` 删除元素不会抛出任何异常；\n",
    "- 还可以使用 `pop()` 方法随机删除一个元素，并且可以返回删除的值；\n"
   ]
  },
  {
   "cell_type": "code",
   "execution_count": 70,
   "id": "3cd52610",
   "metadata": {},
   "outputs": [
    {
     "ename": "KeyError",
     "evalue": "'item1'",
     "output_type": "error",
     "traceback": [
      "\u001b[1;31m---------------------------------------------------------------------------\u001b[0m",
      "\u001b[1;31mKeyError\u001b[0m                                  Traceback (most recent call last)",
      "Cell \u001b[1;32mIn[70], line 1\u001b[0m\n\u001b[1;32m----> 1\u001b[0m st\u001b[39m.\u001b[39;49mremove(\u001b[39m'\u001b[39;49m\u001b[39mitem1\u001b[39;49m\u001b[39m'\u001b[39;49m)\n",
      "\u001b[1;31mKeyError\u001b[0m: 'item1'"
     ]
    }
   ],
   "source": [
    "st.remove('item1')"
   ]
  },
  {
   "cell_type": "code",
   "execution_count": 68,
   "id": "9d39c14c",
   "metadata": {},
   "outputs": [
    {
     "data": {
      "text/plain": [
       "{'item2', 'item3'}"
      ]
     },
     "execution_count": 68,
     "metadata": {},
     "output_type": "execute_result"
    }
   ],
   "source": [
    "st.discard('item4')\n",
    "st"
   ]
  },
  {
   "cell_type": "code",
   "execution_count": 69,
   "id": "5ca0e111",
   "metadata": {},
   "outputs": [
    {
     "data": {
      "text/plain": [
       "'item2'"
      ]
     },
     "execution_count": 69,
     "metadata": {},
     "output_type": "execute_result"
    }
   ],
   "source": [
    "pop_item = st.pop()\n",
    "pop_item"
   ]
  },
  {
   "cell_type": "markdown",
   "id": "40228357",
   "metadata": {},
   "source": [
    "集合支持数学集合运算，如并集、交集、差集和对称差集等；"
   ]
  },
  {
   "attachments": {},
   "cell_type": "markdown",
   "id": "9581fb36",
   "metadata": {},
   "source": [
    "![](./Python%E9%9B%86%E5%90%88%E6%93%8D%E4%BD%9C.png)\n",
    "![](./Python%E9%9B%86%E5%90%88%E6%93%8D%E4%BD%9C%EF%BC%88%E7%BB%AD%EF%BC%89.png)"
   ]
  },
  {
   "cell_type": "code",
   "execution_count": 72,
   "id": "a8f3bcd6",
   "metadata": {},
   "outputs": [],
   "source": [
    "a = {1,2,3,4,5}\n",
    "b = {3,4,5,6,7,8,9}"
   ]
  },
  {
   "cell_type": "code",
   "execution_count": 73,
   "id": "59b60e09",
   "metadata": {},
   "outputs": [
    {
     "data": {
      "text/plain": [
       "{1, 2, 3, 4, 5, 6, 7, 8, 9}"
      ]
     },
     "execution_count": 73,
     "metadata": {},
     "output_type": "execute_result"
    }
   ],
   "source": [
    "# 并集\n",
    "a.union(b)"
   ]
  },
  {
   "cell_type": "code",
   "execution_count": 78,
   "id": "d2a0ad3b",
   "metadata": {},
   "outputs": [
    {
     "data": {
      "text/plain": [
       "{1, 2, 3, 4, 5, 6, 7, 8, 9}"
      ]
     },
     "execution_count": 78,
     "metadata": {},
     "output_type": "execute_result"
    }
   ],
   "source": [
    "# 并集\n",
    "a | b"
   ]
  },
  {
   "cell_type": "code",
   "execution_count": 80,
   "id": "f812cc98",
   "metadata": {},
   "outputs": [
    {
     "data": {
      "text/plain": [
       "{1, 2, 3, 4, 5, 6, 7, 8, 9}"
      ]
     },
     "execution_count": 80,
     "metadata": {},
     "output_type": "execute_result"
    }
   ],
   "source": [
    "# 将操作结果赋值给左边变量\n",
    "c = a.copy()\n",
    "c.update(b)\n",
    "# c |= b\n",
    "c"
   ]
  },
  {
   "cell_type": "code",
   "execution_count": 76,
   "id": "8a042e20",
   "metadata": {},
   "outputs": [
    {
     "data": {
      "text/plain": [
       "{3, 4, 5}"
      ]
     },
     "execution_count": 76,
     "metadata": {},
     "output_type": "execute_result"
    }
   ],
   "source": [
    "# 交集\n",
    "a.intersection(b)"
   ]
  },
  {
   "cell_type": "code",
   "execution_count": 77,
   "id": "ebce6c55",
   "metadata": {},
   "outputs": [
    {
     "data": {
      "text/plain": [
       "{3, 4, 5}"
      ]
     },
     "execution_count": 77,
     "metadata": {},
     "output_type": "execute_result"
    }
   ],
   "source": [
    "# 交集\n",
    "a & b"
   ]
  },
  {
   "cell_type": "code",
   "execution_count": 82,
   "id": "8a3918c3",
   "metadata": {},
   "outputs": [
    {
     "data": {
      "text/plain": [
       "{3, 4, 5}"
      ]
     },
     "execution_count": 82,
     "metadata": {},
     "output_type": "execute_result"
    }
   ],
   "source": [
    "# 交集\n",
    "d = a.copy()\n",
    "d.intersection_update(b)\n",
    "#d &= b\n",
    "d"
   ]
  },
  {
   "cell_type": "markdown",
   "id": "1bb9d57b",
   "metadata": {},
   "source": [
    "集合中的元素必须是不可变的。类似于字典的键；"
   ]
  },
  {
   "cell_type": "markdown",
   "id": "1806a85b",
   "metadata": {},
   "source": [
    "还可以检查一个集合是否是另一个集合的子集（包含在）或者超集（包含所有元素；"
   ]
  },
  {
   "cell_type": "code",
   "execution_count": 85,
   "id": "a1c97c1d",
   "metadata": {},
   "outputs": [
    {
     "data": {
      "text/plain": [
       "True"
      ]
     },
     "execution_count": 85,
     "metadata": {},
     "output_type": "execute_result"
    }
   ],
   "source": [
    "a_set= {1,2,3,4,5}\n",
    "{1,2,3}.issubset(a_set)"
   ]
  },
  {
   "cell_type": "code",
   "execution_count": 86,
   "id": "456f2cc7",
   "metadata": {},
   "outputs": [
    {
     "data": {
      "text/plain": [
       "True"
      ]
     },
     "execution_count": 86,
     "metadata": {},
     "output_type": "execute_result"
    }
   ],
   "source": [
    "a_set.issuperset({1,2,3})"
   ]
  },
  {
   "cell_type": "markdown",
   "id": "d81a317d",
   "metadata": {},
   "source": [
    "### 3.1.6 列表、集合和字典的推导式"
   ]
  },
  {
   "attachments": {},
   "cell_type": "markdown",
   "id": "5a0bdba8",
   "metadata": {},
   "source": [
    "列表推导式的基本形式为：\n",
    "```\n",
    "[expr for val in collection if condition]\n",
    "```\n",
    "等价形式：\n",
    "```\n",
    "result = []\n",
    "for val in colletion:\n",
    "    if condition:\n",
    "        result.append(expr)\n",
    "```"
   ]
  },
  {
   "cell_type": "code",
   "execution_count": 87,
   "id": "6f0557e8",
   "metadata": {},
   "outputs": [
    {
     "data": {
      "text/plain": [
       "['BAT', 'CAR', 'DOVE', 'PYTHON']"
      ]
     },
     "execution_count": 87,
     "metadata": {},
     "output_type": "execute_result"
    }
   ],
   "source": [
    "strings = ['a','as','bat','car','dove','python']\n",
    "[x.upper() for x in strings if len(x) > 2]"
   ]
  },
  {
   "attachments": {},
   "cell_type": "markdown",
   "id": "8674e925",
   "metadata": {},
   "source": [
    "集合和字典的推导式是列表推导式的自然扩展。字典的推导式形式为：\n",
    "```\n",
    "dict_comp = {key-expr:value-expr for value in collection if condition}\n",
    "```\n",
    "集合的推导式只是把列表推导式的中括号改成大括号：\n",
    "```\n",
    "set_comp = {expr for value in collection if condition}\n",
    "```"
   ]
  },
  {
   "cell_type": "code",
   "execution_count": 88,
   "id": "33e61986",
   "metadata": {},
   "outputs": [
    {
     "data": {
      "text/plain": [
       "{1, 2, 3, 4, 6}"
      ]
     },
     "execution_count": 88,
     "metadata": {},
     "output_type": "execute_result"
    }
   ],
   "source": [
    "# 集合推导式\n",
    "unique_lengths = {len(s) for s in strings}\n",
    "unique_lengths"
   ]
  },
  {
   "cell_type": "markdown",
   "id": "9486e26a",
   "metadata": {},
   "source": [
    "也可以使用高阶函数`map()`，表达更简洁："
   ]
  },
  {
   "cell_type": "code",
   "execution_count": 89,
   "id": "66bb2441",
   "metadata": {},
   "outputs": [
    {
     "data": {
      "text/plain": [
       "{1, 2, 3, 4, 6}"
      ]
     },
     "execution_count": 89,
     "metadata": {},
     "output_type": "execute_result"
    }
   ],
   "source": [
    "# map 高阶函数\n",
    "set(map(len,strings))"
   ]
  },
  {
   "cell_type": "code",
   "execution_count": 90,
   "id": "369ee81a",
   "metadata": {},
   "outputs": [
    {
     "data": {
      "text/plain": [
       "{'a': 0, 'as': 1, 'bat': 2, 'car': 3, 'dove': 4, 'python': 5}"
      ]
     },
     "execution_count": 90,
     "metadata": {},
     "output_type": "execute_result"
    }
   ],
   "source": [
    "# 字典推导式\n",
    "loc_mapping = {val:index for index,val in enumerate(strings)}\n",
    "loc_mapping"
   ]
  },
  {
   "attachments": {},
   "cell_type": "markdown",
   "id": "7eaed51b",
   "metadata": {},
   "source": [
    "#### 3.1.6.1 嵌套列表推导式"
   ]
  },
  {
   "attachments": {},
   "cell_type": "markdown",
   "id": "210bc898",
   "metadata": {},
   "source": [
    "对多维列表的遍历；"
   ]
  },
  {
   "cell_type": "code",
   "execution_count": 95,
   "id": "edfedf06",
   "metadata": {},
   "outputs": [
    {
     "data": {
      "text/plain": [
       "['Steven']"
      ]
     },
     "execution_count": 95,
     "metadata": {},
     "output_type": "execute_result"
    }
   ],
   "source": [
    "all_data = [['John','Emily','Michael','Mary','Steven'],['Maria','Juan','Javier','Natalia','Pilar']]\n",
    "# 获取包含 2个以上 e字母的名字\n",
    "# 普通遍历\n",
    "names_of_interest =[]\n",
    "for names in all_data:\n",
    "    enough_es = [name for name in names if name.count('e')>=2]\n",
    "    names_of_interest.extend(enough_es)\n",
    "names_of_interest"
   ]
  },
  {
   "cell_type": "code",
   "execution_count": 99,
   "id": "00308321",
   "metadata": {},
   "outputs": [
    {
     "data": {
      "text/plain": [
       "['Steven']"
      ]
     },
     "execution_count": 99,
     "metadata": {},
     "output_type": "execute_result"
    }
   ],
   "source": [
    "# 列表推导式\n",
    "[name for names in all_data for name in names if name.count('e') >= 2 ]"
   ]
  },
  {
   "cell_type": "code",
   "execution_count": 102,
   "id": "04a1ffeb",
   "metadata": {},
   "outputs": [
    {
     "data": {
      "text/plain": [
       "[1, 2, 3, 4, 5, 6, 7, 8, 9]"
      ]
     },
     "execution_count": 102,
     "metadata": {},
     "output_type": "execute_result"
    }
   ],
   "source": [
    "# 将含有整数元组的列表扁平化为一个简单的整数列表\n",
    "some_tuples = [(1,2,3),(4,5,6),(7,8,9)]\n",
    "flattenen = [x for tup in some_tuples for x in tup]\n",
    "flattenen"
   ]
  },
  {
   "attachments": {},
   "cell_type": "markdown",
   "id": "3cc8dea7",
   "metadata": {},
   "source": [
    "列表生成式的 `for` 循环时根据嵌套的顺序排列的，所有过滤条件都放在最后；当然，你也可以使用嵌套列表推导式，但是超过两到三层可读性就会变得很差；"
   ]
  },
  {
   "cell_type": "code",
   "execution_count": 97,
   "id": "19eb79d7",
   "metadata": {},
   "outputs": [
    {
     "data": {
      "text/plain": [
       "[['John', 'Emily', 'Michael', 'Mary', 'Steven'],\n",
       " ['Maria', 'Juan', 'Javier', 'Natalia', 'Pilar']]"
      ]
     },
     "execution_count": 97,
     "metadata": {},
     "output_type": "execute_result"
    }
   ],
   "source": [
    "# 嵌套列表推导式\n",
    "[[name for name in names] for names in all_data]"
   ]
  },
  {
   "cell_type": "code",
   "execution_count": null,
   "id": "646bf011",
   "metadata": {},
   "outputs": [],
   "source": []
  }
 ],
 "metadata": {
  "kernelspec": {
   "display_name": "Python 3 (ipykernel)",
   "language": "python",
   "name": "python3"
  },
  "language_info": {
   "codemirror_mode": {
    "name": "ipython",
    "version": 3
   },
   "file_extension": ".py",
   "mimetype": "text/x-python",
   "name": "python",
   "nbconvert_exporter": "python",
   "pygments_lexer": "ipython3",
   "version": "3.10.9"
  }
 },
 "nbformat": 4,
 "nbformat_minor": 5
}
